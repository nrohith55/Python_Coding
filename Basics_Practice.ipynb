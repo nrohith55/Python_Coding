{
 "cells": [
  {
   "cell_type": "code",
   "execution_count": 1,
   "id": "6558e9aa",
   "metadata": {},
   "outputs": [
    {
     "data": {
      "text/plain": [
       "2"
      ]
     },
     "execution_count": 1,
     "metadata": {},
     "output_type": "execute_result"
    }
   ],
   "source": [
    "1+1"
   ]
  },
  {
   "cell_type": "code",
   "execution_count": 2,
   "id": "73d1eaf7",
   "metadata": {},
   "outputs": [
    {
     "data": {
      "text/plain": [
       "2"
      ]
     },
     "execution_count": 2,
     "metadata": {},
     "output_type": "execute_result"
    }
   ],
   "source": [
    "1*2"
   ]
  },
  {
   "cell_type": "code",
   "execution_count": 3,
   "id": "9352ef40",
   "metadata": {},
   "outputs": [
    {
     "data": {
      "text/plain": [
       "0"
      ]
     },
     "execution_count": 3,
     "metadata": {},
     "output_type": "execute_result"
    }
   ],
   "source": [
    "1-1"
   ]
  },
  {
   "cell_type": "code",
   "execution_count": 4,
   "id": "fdff2800",
   "metadata": {},
   "outputs": [
    {
     "data": {
      "text/plain": [
       "0.5"
      ]
     },
     "execution_count": 4,
     "metadata": {},
     "output_type": "execute_result"
    }
   ],
   "source": [
    "1/2"
   ]
  },
  {
   "cell_type": "code",
   "execution_count": 6,
   "id": "dd31fb4c",
   "metadata": {},
   "outputs": [
    {
     "data": {
      "text/plain": [
       "5"
      ]
     },
     "execution_count": 6,
     "metadata": {},
     "output_type": "execute_result"
    }
   ],
   "source": [
    "11//2"
   ]
  },
  {
   "cell_type": "code",
   "execution_count": 7,
   "id": "657d5b27",
   "metadata": {},
   "outputs": [
    {
     "data": {
      "text/plain": [
       "1"
      ]
     },
     "execution_count": 7,
     "metadata": {},
     "output_type": "execute_result"
    }
   ],
   "source": [
    "11%2"
   ]
  },
  {
   "cell_type": "code",
   "execution_count": 8,
   "id": "c47ee815",
   "metadata": {},
   "outputs": [
    {
     "data": {
      "text/plain": [
       "8"
      ]
     },
     "execution_count": 8,
     "metadata": {},
     "output_type": "execute_result"
    }
   ],
   "source": [
    "2**3"
   ]
  },
  {
   "cell_type": "code",
   "execution_count": 9,
   "id": "47eda348",
   "metadata": {},
   "outputs": [
    {
     "data": {
      "text/plain": [
       "105"
      ]
     },
     "execution_count": 9,
     "metadata": {},
     "output_type": "execute_result"
    }
   ],
   "source": [
    "2+10*10+3"
   ]
  },
  {
   "cell_type": "code",
   "execution_count": 10,
   "id": "213f0753",
   "metadata": {},
   "outputs": [
    {
     "data": {
      "text/plain": [
       "156"
      ]
     },
     "execution_count": 10,
     "metadata": {},
     "output_type": "execute_result"
    }
   ],
   "source": [
    "(2+10)*(10+3)"
   ]
  },
  {
   "cell_type": "code",
   "execution_count": 11,
   "id": "e19a55e9",
   "metadata": {},
   "outputs": [],
   "source": [
    "a=11"
   ]
  },
  {
   "cell_type": "code",
   "execution_count": 12,
   "id": "275bba9b",
   "metadata": {},
   "outputs": [
    {
     "data": {
      "text/plain": [
       "12"
      ]
     },
     "execution_count": 12,
     "metadata": {},
     "output_type": "execute_result"
    }
   ],
   "source": [
    "a+1"
   ]
  },
  {
   "cell_type": "code",
   "execution_count": 13,
   "id": "06bb1e1d",
   "metadata": {},
   "outputs": [
    {
     "data": {
      "text/plain": [
       "121"
      ]
     },
     "execution_count": 13,
     "metadata": {},
     "output_type": "execute_result"
    }
   ],
   "source": [
    "a*a"
   ]
  },
  {
   "cell_type": "code",
   "execution_count": 14,
   "id": "05bb9bcd",
   "metadata": {},
   "outputs": [],
   "source": [
    "my_income=100\n",
    "tax_rate=0.5"
   ]
  },
  {
   "cell_type": "code",
   "execution_count": 15,
   "id": "59c8bd70",
   "metadata": {},
   "outputs": [],
   "source": [
    "tax=my_income*tax_rate"
   ]
  },
  {
   "cell_type": "code",
   "execution_count": 16,
   "id": "a003800e",
   "metadata": {},
   "outputs": [
    {
     "data": {
      "text/plain": [
       "50.0"
      ]
     },
     "execution_count": 16,
     "metadata": {},
     "output_type": "execute_result"
    }
   ],
   "source": [
    "tax"
   ]
  },
  {
   "cell_type": "code",
   "execution_count": 17,
   "id": "deaec3c8",
   "metadata": {},
   "outputs": [],
   "source": [
    "a=1"
   ]
  },
  {
   "cell_type": "code",
   "execution_count": 18,
   "id": "3fcd63d9",
   "metadata": {},
   "outputs": [
    {
     "data": {
      "text/plain": [
       "int"
      ]
     },
     "execution_count": 18,
     "metadata": {},
     "output_type": "execute_result"
    }
   ],
   "source": [
    "type(a)"
   ]
  },
  {
   "cell_type": "code",
   "execution_count": 19,
   "id": "179401f9",
   "metadata": {},
   "outputs": [],
   "source": [
    "a=({'a':1,'b':3})"
   ]
  },
  {
   "cell_type": "code",
   "execution_count": 20,
   "id": "fff08666",
   "metadata": {},
   "outputs": [
    {
     "data": {
      "text/plain": [
       "{'a': 1, 'b': 3}"
      ]
     },
     "execution_count": 20,
     "metadata": {},
     "output_type": "execute_result"
    }
   ],
   "source": [
    "a"
   ]
  },
  {
   "cell_type": "code",
   "execution_count": 21,
   "id": "dc8da477",
   "metadata": {},
   "outputs": [
    {
     "data": {
      "text/plain": [
       "dict"
      ]
     },
     "execution_count": 21,
     "metadata": {},
     "output_type": "execute_result"
    }
   ],
   "source": [
    "type(a)"
   ]
  },
  {
   "cell_type": "code",
   "execution_count": 22,
   "id": "ba7b50b0",
   "metadata": {},
   "outputs": [],
   "source": [
    "s=\"Rohith\""
   ]
  },
  {
   "cell_type": "code",
   "execution_count": 23,
   "id": "69ec19b0",
   "metadata": {},
   "outputs": [
    {
     "data": {
      "text/plain": [
       "str"
      ]
     },
     "execution_count": 23,
     "metadata": {},
     "output_type": "execute_result"
    }
   ],
   "source": [
    "type(s)"
   ]
  },
  {
   "cell_type": "code",
   "execution_count": 24,
   "id": "ee8b9f84",
   "metadata": {},
   "outputs": [
    {
     "name": "stdout",
     "output_type": "stream",
     "text": [
      "Hi \n",
      " How are you\n"
     ]
    }
   ],
   "source": [
    "print(\"Hi \\n How are you\")"
   ]
  },
  {
   "cell_type": "code",
   "execution_count": 25,
   "id": "ad1ae026",
   "metadata": {},
   "outputs": [
    {
     "data": {
      "text/plain": [
       "6"
      ]
     },
     "execution_count": 25,
     "metadata": {},
     "output_type": "execute_result"
    }
   ],
   "source": [
    "len(s)"
   ]
  },
  {
   "cell_type": "code",
   "execution_count": 26,
   "id": "6f1968c2",
   "metadata": {},
   "outputs": [],
   "source": [
    "a=\"Hello world\""
   ]
  },
  {
   "cell_type": "code",
   "execution_count": 27,
   "id": "0c7eea59",
   "metadata": {},
   "outputs": [
    {
     "data": {
      "text/plain": [
       "'Hello world'"
      ]
     },
     "execution_count": 27,
     "metadata": {},
     "output_type": "execute_result"
    }
   ],
   "source": [
    "a[:]"
   ]
  },
  {
   "cell_type": "code",
   "execution_count": 28,
   "id": "6f341036",
   "metadata": {},
   "outputs": [
    {
     "data": {
      "text/plain": [
       "'H'"
      ]
     },
     "execution_count": 28,
     "metadata": {},
     "output_type": "execute_result"
    }
   ],
   "source": [
    "a[0]"
   ]
  },
  {
   "cell_type": "code",
   "execution_count": 29,
   "id": "63b09162",
   "metadata": {},
   "outputs": [
    {
     "data": {
      "text/plain": [
       "'ello world'"
      ]
     },
     "execution_count": 29,
     "metadata": {},
     "output_type": "execute_result"
    }
   ],
   "source": [
    "a[1:]"
   ]
  },
  {
   "cell_type": "code",
   "execution_count": 30,
   "id": "936078d9",
   "metadata": {},
   "outputs": [
    {
     "data": {
      "text/plain": [
       "'Hel'"
      ]
     },
     "execution_count": 30,
     "metadata": {},
     "output_type": "execute_result"
    }
   ],
   "source": [
    "a[:3]"
   ]
  },
  {
   "cell_type": "code",
   "execution_count": 31,
   "id": "d40de661",
   "metadata": {},
   "outputs": [
    {
     "data": {
      "text/plain": [
       "'dlrow olleH'"
      ]
     },
     "execution_count": 31,
     "metadata": {},
     "output_type": "execute_result"
    }
   ],
   "source": [
    "a[::-1]"
   ]
  },
  {
   "cell_type": "code",
   "execution_count": 32,
   "id": "131310a5",
   "metadata": {},
   "outputs": [
    {
     "data": {
      "text/plain": [
       "'Hlowrd'"
      ]
     },
     "execution_count": 32,
     "metadata": {},
     "output_type": "execute_result"
    }
   ],
   "source": [
    "a[::2]"
   ]
  },
  {
   "cell_type": "code",
   "execution_count": 33,
   "id": "0fbade92",
   "metadata": {},
   "outputs": [
    {
     "data": {
      "text/plain": [
       "'Hello world'"
      ]
     },
     "execution_count": 33,
     "metadata": {},
     "output_type": "execute_result"
    }
   ],
   "source": [
    "a[::1]"
   ]
  },
  {
   "cell_type": "code",
   "execution_count": 34,
   "id": "1797bfee",
   "metadata": {},
   "outputs": [],
   "source": [
    "s=\"Hello\""
   ]
  },
  {
   "cell_type": "code",
   "execution_count": 35,
   "id": "ad197ee2",
   "metadata": {},
   "outputs": [
    {
     "data": {
      "text/plain": [
       "'Hello world'"
      ]
     },
     "execution_count": 35,
     "metadata": {},
     "output_type": "execute_result"
    }
   ],
   "source": [
    "s+\" \" 'world'"
   ]
  },
  {
   "cell_type": "code",
   "execution_count": 37,
   "id": "59648efc",
   "metadata": {},
   "outputs": [],
   "source": [
    "letter='z'"
   ]
  },
  {
   "cell_type": "code",
   "execution_count": 38,
   "id": "39897769",
   "metadata": {},
   "outputs": [
    {
     "data": {
      "text/plain": [
       "'zzzzzzzzzz'"
      ]
     },
     "execution_count": 38,
     "metadata": {},
     "output_type": "execute_result"
    }
   ],
   "source": [
    "letter*10"
   ]
  },
  {
   "cell_type": "code",
   "execution_count": 39,
   "id": "fa6e94e3",
   "metadata": {},
   "outputs": [],
   "source": [
    "x='Welcome to the world of Python'"
   ]
  },
  {
   "cell_type": "code",
   "execution_count": 40,
   "id": "29170144",
   "metadata": {},
   "outputs": [
    {
     "data": {
      "text/plain": [
       "'WELCOME TO THE WORLD OF PYTHON'"
      ]
     },
     "execution_count": 40,
     "metadata": {},
     "output_type": "execute_result"
    }
   ],
   "source": [
    "x.upper()"
   ]
  },
  {
   "cell_type": "code",
   "execution_count": 41,
   "id": "2815c065",
   "metadata": {},
   "outputs": [
    {
     "data": {
      "text/plain": [
       "'welcome to the world of python'"
      ]
     },
     "execution_count": 41,
     "metadata": {},
     "output_type": "execute_result"
    }
   ],
   "source": [
    "x.lower()"
   ]
  },
  {
   "cell_type": "code",
   "execution_count": 42,
   "id": "901b5778",
   "metadata": {},
   "outputs": [
    {
     "data": {
      "text/plain": [
       "['Welcome', 'to', 'the', 'world', 'of', 'Python']"
      ]
     },
     "execution_count": 42,
     "metadata": {},
     "output_type": "execute_result"
    }
   ],
   "source": [
    "x.split()"
   ]
  },
  {
   "cell_type": "code",
   "execution_count": 43,
   "id": "991acbfe",
   "metadata": {},
   "outputs": [
    {
     "data": {
      "text/plain": [
       "['Welcome to the world of ', 'ython']"
      ]
     },
     "execution_count": 43,
     "metadata": {},
     "output_type": "execute_result"
    }
   ],
   "source": [
    "x.split(\"P\")"
   ]
  },
  {
   "cell_type": "code",
   "execution_count": 44,
   "id": "6339b72a",
   "metadata": {},
   "outputs": [
    {
     "name": "stdout",
     "output_type": "stream",
     "text": [
      "My name is Rohith\n"
     ]
    }
   ],
   "source": [
    "print(\"My name is {}\".format('Rohith'))"
   ]
  },
  {
   "cell_type": "code",
   "execution_count": 45,
   "id": "36bcf2be",
   "metadata": {},
   "outputs": [
    {
     "name": "stdout",
     "output_type": "stream",
     "text": [
      "My city name is Bangalore\n"
     ]
    }
   ],
   "source": [
    "print(\"My city name is %s\" %'Bangalore')"
   ]
  },
  {
   "cell_type": "code",
   "execution_count": 46,
   "id": "4b742b7c",
   "metadata": {},
   "outputs": [],
   "source": [
    "my_list=[1,2,3]"
   ]
  },
  {
   "cell_type": "code",
   "execution_count": 47,
   "id": "a6a66a60",
   "metadata": {},
   "outputs": [],
   "source": [
    "my_list=[1,2,3,'Rohith','DataScientist']"
   ]
  },
  {
   "cell_type": "code",
   "execution_count": 48,
   "id": "d5583271",
   "metadata": {},
   "outputs": [
    {
     "data": {
      "text/plain": [
       "[1, 2, 3, 'Rohith', 'DataScientist']"
      ]
     },
     "execution_count": 48,
     "metadata": {},
     "output_type": "execute_result"
    }
   ],
   "source": [
    "my_list"
   ]
  },
  {
   "cell_type": "code",
   "execution_count": 49,
   "id": "770972f0",
   "metadata": {},
   "outputs": [
    {
     "data": {
      "text/plain": [
       "5"
      ]
     },
     "execution_count": 49,
     "metadata": {},
     "output_type": "execute_result"
    }
   ],
   "source": [
    "len(my_list)"
   ]
  },
  {
   "cell_type": "code",
   "execution_count": 50,
   "id": "66942b73",
   "metadata": {},
   "outputs": [
    {
     "data": {
      "text/plain": [
       "1"
      ]
     },
     "execution_count": 50,
     "metadata": {},
     "output_type": "execute_result"
    }
   ],
   "source": [
    "my_list[0]"
   ]
  },
  {
   "cell_type": "code",
   "execution_count": 51,
   "id": "f4ac43ed",
   "metadata": {},
   "outputs": [],
   "source": [
    "new_list=['Cambridge','UK','America']"
   ]
  },
  {
   "cell_type": "code",
   "execution_count": 53,
   "id": "94004eb5",
   "metadata": {},
   "outputs": [],
   "source": [
    "z=my_list+new_list"
   ]
  },
  {
   "cell_type": "code",
   "execution_count": 54,
   "id": "3f77fad0",
   "metadata": {},
   "outputs": [
    {
     "data": {
      "text/plain": [
       "[1, 2, 3, 'Rohith', 'DataScientist', 'Cambridge', 'UK', 'America']"
      ]
     },
     "execution_count": 54,
     "metadata": {},
     "output_type": "execute_result"
    }
   ],
   "source": [
    "z"
   ]
  },
  {
   "cell_type": "code",
   "execution_count": 55,
   "id": "2db73bfd",
   "metadata": {},
   "outputs": [
    {
     "data": {
      "text/plain": [
       "[1,\n",
       " 2,\n",
       " 3,\n",
       " 'Rohith',\n",
       " 'DataScientist',\n",
       " 'Cambridge',\n",
       " 'UK',\n",
       " 'America',\n",
       " 1,\n",
       " 2,\n",
       " 3,\n",
       " 'Rohith',\n",
       " 'DataScientist',\n",
       " 'Cambridge',\n",
       " 'UK',\n",
       " 'America']"
      ]
     },
     "execution_count": 55,
     "metadata": {},
     "output_type": "execute_result"
    }
   ],
   "source": [
    "z*2"
   ]
  },
  {
   "cell_type": "code",
   "execution_count": 56,
   "id": "9f54a825",
   "metadata": {},
   "outputs": [],
   "source": [
    "lst=[1,2,3]"
   ]
  },
  {
   "cell_type": "code",
   "execution_count": 57,
   "id": "e57bb0b5",
   "metadata": {},
   "outputs": [],
   "source": [
    "lst.append('Rohith')"
   ]
  },
  {
   "cell_type": "code",
   "execution_count": 58,
   "id": "7e0c7cdc",
   "metadata": {},
   "outputs": [
    {
     "data": {
      "text/plain": [
       "[1, 2, 3, 'Rohith']"
      ]
     },
     "execution_count": 58,
     "metadata": {},
     "output_type": "execute_result"
    }
   ],
   "source": [
    "lst\n"
   ]
  },
  {
   "cell_type": "code",
   "execution_count": 59,
   "id": "06d44717",
   "metadata": {},
   "outputs": [
    {
     "data": {
      "text/plain": [
       "'Rohith'"
      ]
     },
     "execution_count": 59,
     "metadata": {},
     "output_type": "execute_result"
    }
   ],
   "source": [
    "lst.pop()"
   ]
  },
  {
   "cell_type": "code",
   "execution_count": 60,
   "id": "5355f2f6",
   "metadata": {},
   "outputs": [
    {
     "data": {
      "text/plain": [
       "[1, 2, 3]"
      ]
     },
     "execution_count": 60,
     "metadata": {},
     "output_type": "execute_result"
    }
   ],
   "source": [
    "lst"
   ]
  },
  {
   "cell_type": "code",
   "execution_count": 61,
   "id": "3fbbe1ef",
   "metadata": {},
   "outputs": [],
   "source": [
    "lst=[1,2,1,2,1,2,3,3,5,3,2,1,2,34,6,7]"
   ]
  },
  {
   "cell_type": "code",
   "execution_count": 62,
   "id": "8e9a8095",
   "metadata": {},
   "outputs": [],
   "source": [
    "lst.sort()"
   ]
  },
  {
   "cell_type": "code",
   "execution_count": 63,
   "id": "6746606a",
   "metadata": {},
   "outputs": [
    {
     "data": {
      "text/plain": [
       "[1, 1, 1, 1, 2, 2, 2, 2, 2, 3, 3, 3, 5, 6, 7, 34]"
      ]
     },
     "execution_count": 63,
     "metadata": {},
     "output_type": "execute_result"
    }
   ],
   "source": [
    "lst"
   ]
  },
  {
   "cell_type": "code",
   "execution_count": 64,
   "id": "a92c4ae0",
   "metadata": {},
   "outputs": [],
   "source": [
    "lst.reverse()"
   ]
  },
  {
   "cell_type": "code",
   "execution_count": 65,
   "id": "f663d444",
   "metadata": {},
   "outputs": [
    {
     "data": {
      "text/plain": [
       "[34, 7, 6, 5, 3, 3, 3, 2, 2, 2, 2, 2, 1, 1, 1, 1]"
      ]
     },
     "execution_count": 65,
     "metadata": {},
     "output_type": "execute_result"
    }
   ],
   "source": [
    "lst"
   ]
  },
  {
   "cell_type": "code",
   "execution_count": 66,
   "id": "6b4d5fd5",
   "metadata": {},
   "outputs": [],
   "source": [
    "l1=[1,2,3]\n",
    "l2=[4,5,6]\n",
    "l3=[7,8,9]"
   ]
  },
  {
   "cell_type": "code",
   "execution_count": 68,
   "id": "91031789",
   "metadata": {},
   "outputs": [],
   "source": [
    "matrix=[l1,l2,l3]"
   ]
  },
  {
   "cell_type": "code",
   "execution_count": 69,
   "id": "f86bf2be",
   "metadata": {},
   "outputs": [
    {
     "data": {
      "text/plain": [
       "[[1, 2, 3], [4, 5, 6], [7, 8, 9]]"
      ]
     },
     "execution_count": 69,
     "metadata": {},
     "output_type": "execute_result"
    }
   ],
   "source": [
    "matrix"
   ]
  },
  {
   "cell_type": "code",
   "execution_count": 70,
   "id": "18be865e",
   "metadata": {},
   "outputs": [
    {
     "data": {
      "text/plain": [
       "[1, 2, 3]"
      ]
     },
     "execution_count": 70,
     "metadata": {},
     "output_type": "execute_result"
    }
   ],
   "source": [
    "matrix[0]"
   ]
  },
  {
   "cell_type": "code",
   "execution_count": 71,
   "id": "adb2c18d",
   "metadata": {},
   "outputs": [
    {
     "data": {
      "text/plain": [
       "1"
      ]
     },
     "execution_count": 71,
     "metadata": {},
     "output_type": "execute_result"
    }
   ],
   "source": [
    "matrix[0][0]"
   ]
  },
  {
   "cell_type": "code",
   "execution_count": 72,
   "id": "ebe4568c",
   "metadata": {},
   "outputs": [],
   "source": [
    "my_dic={'key1':'value','key2':'value2'}"
   ]
  },
  {
   "cell_type": "code",
   "execution_count": 73,
   "id": "5c7173bf",
   "metadata": {},
   "outputs": [
    {
     "data": {
      "text/plain": [
       "{'key1': 'value', 'key2': 'value2'}"
      ]
     },
     "execution_count": 73,
     "metadata": {},
     "output_type": "execute_result"
    }
   ],
   "source": [
    "my_dic"
   ]
  },
  {
   "cell_type": "code",
   "execution_count": 74,
   "id": "25693aa0",
   "metadata": {},
   "outputs": [],
   "source": [
    "a={'Name':'Rohith','City':'Bangalore'}"
   ]
  },
  {
   "cell_type": "code",
   "execution_count": 75,
   "id": "a492c931",
   "metadata": {},
   "outputs": [
    {
     "data": {
      "text/plain": [
       "{'Name': 'Rohith', 'City': 'Bangalore'}"
      ]
     },
     "execution_count": 75,
     "metadata": {},
     "output_type": "execute_result"
    }
   ],
   "source": [
    "a"
   ]
  },
  {
   "cell_type": "code",
   "execution_count": 76,
   "id": "4cb8b092",
   "metadata": {},
   "outputs": [
    {
     "data": {
      "text/plain": [
       "'Rohith'"
      ]
     },
     "execution_count": 76,
     "metadata": {},
     "output_type": "execute_result"
    }
   ],
   "source": [
    "a['Name']"
   ]
  },
  {
   "cell_type": "code",
   "execution_count": 77,
   "id": "e0d59e17",
   "metadata": {},
   "outputs": [],
   "source": [
    "b={'key1':'z','key2':'Uganda','key3':['I','lOVE','York']}"
   ]
  },
  {
   "cell_type": "code",
   "execution_count": 78,
   "id": "ae09d0bb",
   "metadata": {},
   "outputs": [
    {
     "data": {
      "text/plain": [
       "{'key1': 'z', 'key2': 'Uganda', 'key3': ['I', 'lOVE', 'York']}"
      ]
     },
     "execution_count": 78,
     "metadata": {},
     "output_type": "execute_result"
    }
   ],
   "source": [
    "b"
   ]
  },
  {
   "cell_type": "code",
   "execution_count": 79,
   "id": "450b7dd5",
   "metadata": {},
   "outputs": [
    {
     "data": {
      "text/plain": [
       "'z'"
      ]
     },
     "execution_count": 79,
     "metadata": {},
     "output_type": "execute_result"
    }
   ],
   "source": [
    "b['key1']"
   ]
  },
  {
   "cell_type": "code",
   "execution_count": 82,
   "id": "13a1d646",
   "metadata": {},
   "outputs": [
    {
     "data": {
      "text/plain": [
       "'Uganda'"
      ]
     },
     "execution_count": 82,
     "metadata": {},
     "output_type": "execute_result"
    }
   ],
   "source": [
    "b['key2']"
   ]
  },
  {
   "cell_type": "code",
   "execution_count": 83,
   "id": "159f91e7",
   "metadata": {},
   "outputs": [
    {
     "data": {
      "text/plain": [
       "['I', 'lOVE', 'York']"
      ]
     },
     "execution_count": 83,
     "metadata": {},
     "output_type": "execute_result"
    }
   ],
   "source": [
    "b['key3']"
   ]
  },
  {
   "cell_type": "code",
   "execution_count": 84,
   "id": "ee7d8fdc",
   "metadata": {},
   "outputs": [
    {
     "data": {
      "text/plain": [
       "'I'"
      ]
     },
     "execution_count": 84,
     "metadata": {},
     "output_type": "execute_result"
    }
   ],
   "source": [
    "b['key3'][0]"
   ]
  },
  {
   "cell_type": "code",
   "execution_count": 85,
   "id": "3467d148",
   "metadata": {},
   "outputs": [
    {
     "data": {
      "text/plain": [
       "'i'"
      ]
     },
     "execution_count": 85,
     "metadata": {},
     "output_type": "execute_result"
    }
   ],
   "source": [
    "b['key3'][0].lower()"
   ]
  },
  {
   "cell_type": "code",
   "execution_count": 87,
   "id": "182970d3",
   "metadata": {},
   "outputs": [],
   "source": [
    "c={'key1':{'key2':{'key3':'Hi'}}}"
   ]
  },
  {
   "cell_type": "code",
   "execution_count": 88,
   "id": "96e75b73",
   "metadata": {},
   "outputs": [
    {
     "data": {
      "text/plain": [
       "{'key1': {'key2': {'key3': 'Hi'}}}"
      ]
     },
     "execution_count": 88,
     "metadata": {},
     "output_type": "execute_result"
    }
   ],
   "source": [
    "c"
   ]
  },
  {
   "cell_type": "code",
   "execution_count": 90,
   "id": "fb48929e",
   "metadata": {},
   "outputs": [],
   "source": [
    "dictionary={'key1':'value1','key2':'value2'}"
   ]
  },
  {
   "cell_type": "code",
   "execution_count": 91,
   "id": "8496439b",
   "metadata": {},
   "outputs": [
    {
     "data": {
      "text/plain": [
       "dict_values(['value1', 'value2'])"
      ]
     },
     "execution_count": 91,
     "metadata": {},
     "output_type": "execute_result"
    }
   ],
   "source": [
    "dictionary.values()"
   ]
  },
  {
   "cell_type": "code",
   "execution_count": 92,
   "id": "9be1497c",
   "metadata": {},
   "outputs": [
    {
     "data": {
      "text/plain": [
       "dict_keys(['key1', 'key2'])"
      ]
     },
     "execution_count": 92,
     "metadata": {},
     "output_type": "execute_result"
    }
   ],
   "source": [
    "dictionary.keys()"
   ]
  },
  {
   "cell_type": "code",
   "execution_count": 93,
   "id": "43c74092",
   "metadata": {},
   "outputs": [
    {
     "data": {
      "text/plain": [
       "dict_items([('key1', 'value1'), ('key2', 'value2')])"
      ]
     },
     "execution_count": 93,
     "metadata": {},
     "output_type": "execute_result"
    }
   ],
   "source": [
    "dictionary.items()"
   ]
  },
  {
   "cell_type": "code",
   "execution_count": 94,
   "id": "a1953dbf",
   "metadata": {},
   "outputs": [],
   "source": [
    "t=(1,2,3)"
   ]
  },
  {
   "cell_type": "code",
   "execution_count": 95,
   "id": "ebd8eeb9",
   "metadata": {},
   "outputs": [
    {
     "data": {
      "text/plain": [
       "(1, 2, 3)"
      ]
     },
     "execution_count": 95,
     "metadata": {},
     "output_type": "execute_result"
    }
   ],
   "source": [
    "t"
   ]
  },
  {
   "cell_type": "code",
   "execution_count": 96,
   "id": "6663543e",
   "metadata": {},
   "outputs": [
    {
     "data": {
      "text/plain": [
       "tuple"
      ]
     },
     "execution_count": 96,
     "metadata": {},
     "output_type": "execute_result"
    }
   ],
   "source": [
    "type(t)"
   ]
  },
  {
   "cell_type": "code",
   "execution_count": 97,
   "id": "0378ded6",
   "metadata": {},
   "outputs": [
    {
     "data": {
      "text/plain": [
       "3"
      ]
     },
     "execution_count": 97,
     "metadata": {},
     "output_type": "execute_result"
    }
   ],
   "source": [
    "len(t)"
   ]
  },
  {
   "cell_type": "code",
   "execution_count": 99,
   "id": "6a058f83",
   "metadata": {},
   "outputs": [
    {
     "data": {
      "text/plain": [
       "1"
      ]
     },
     "execution_count": 99,
     "metadata": {},
     "output_type": "execute_result"
    }
   ],
   "source": [
    "t[0]"
   ]
  },
  {
   "cell_type": "code",
   "execution_count": 102,
   "id": "e24436de",
   "metadata": {},
   "outputs": [],
   "source": [
    "e=(1,2,1,2,1,2,3,4,5,6,6,7,6,53,2,3,45,67,654321,23456,9)"
   ]
  },
  {
   "cell_type": "code",
   "execution_count": 103,
   "id": "cd204bdc",
   "metadata": {},
   "outputs": [
    {
     "data": {
      "text/plain": [
       "(1, 2, 1, 2, 1, 2, 3, 4, 5, 6, 6, 7, 6, 53, 2, 3, 45, 67, 654321, 23456, 9)"
      ]
     },
     "execution_count": 103,
     "metadata": {},
     "output_type": "execute_result"
    }
   ],
   "source": [
    "e"
   ]
  },
  {
   "cell_type": "code",
   "execution_count": 104,
   "id": "375453c2",
   "metadata": {},
   "outputs": [
    {
     "data": {
      "text/plain": [
       "1"
      ]
     },
     "execution_count": 104,
     "metadata": {},
     "output_type": "execute_result"
    }
   ],
   "source": [
    "e.count(7)"
   ]
  },
  {
   "cell_type": "code",
   "execution_count": 105,
   "id": "a12008c2",
   "metadata": {},
   "outputs": [
    {
     "data": {
      "text/plain": [
       "1"
      ]
     },
     "execution_count": 105,
     "metadata": {},
     "output_type": "execute_result"
    }
   ],
   "source": [
    "e[2]"
   ]
  },
  {
   "cell_type": "code",
   "execution_count": null,
   "id": "8334287a",
   "metadata": {},
   "outputs": [],
   "source": [
    "# Sets: "
   ]
  },
  {
   "cell_type": "code",
   "execution_count": 2,
   "id": "3159b1b6",
   "metadata": {},
   "outputs": [],
   "source": [
    "a=set()"
   ]
  },
  {
   "cell_type": "code",
   "execution_count": 3,
   "id": "5ba0766f",
   "metadata": {},
   "outputs": [
    {
     "data": {
      "text/plain": [
       "set"
      ]
     },
     "execution_count": 3,
     "metadata": {},
     "output_type": "execute_result"
    }
   ],
   "source": [
    "type(a)"
   ]
  },
  {
   "cell_type": "code",
   "execution_count": 4,
   "id": "32b7c262",
   "metadata": {},
   "outputs": [],
   "source": [
    "b=set({})"
   ]
  },
  {
   "cell_type": "code",
   "execution_count": 5,
   "id": "8e1665fd",
   "metadata": {},
   "outputs": [
    {
     "data": {
      "text/plain": [
       "set()"
      ]
     },
     "execution_count": 5,
     "metadata": {},
     "output_type": "execute_result"
    }
   ],
   "source": [
    "b"
   ]
  },
  {
   "cell_type": "code",
   "execution_count": 6,
   "id": "1a737b26",
   "metadata": {},
   "outputs": [
    {
     "data": {
      "text/plain": [
       "set"
      ]
     },
     "execution_count": 6,
     "metadata": {},
     "output_type": "execute_result"
    }
   ],
   "source": [
    "type(b)"
   ]
  },
  {
   "cell_type": "code",
   "execution_count": 7,
   "id": "7210020e",
   "metadata": {},
   "outputs": [],
   "source": [
    "x={1,2,3}"
   ]
  },
  {
   "cell_type": "code",
   "execution_count": 8,
   "id": "19955555",
   "metadata": {},
   "outputs": [
    {
     "data": {
      "text/plain": [
       "set"
      ]
     },
     "execution_count": 8,
     "metadata": {},
     "output_type": "execute_result"
    }
   ],
   "source": [
    "type(x)"
   ]
  },
  {
   "cell_type": "code",
   "execution_count": 11,
   "id": "991fde01",
   "metadata": {},
   "outputs": [],
   "source": [
    "x.add(4)"
   ]
  },
  {
   "cell_type": "code",
   "execution_count": 12,
   "id": "7e2105a1",
   "metadata": {},
   "outputs": [
    {
     "data": {
      "text/plain": [
       "{1, 2, 3, 4}"
      ]
     },
     "execution_count": 12,
     "metadata": {},
     "output_type": "execute_result"
    }
   ],
   "source": [
    "x"
   ]
  },
  {
   "cell_type": "code",
   "execution_count": 13,
   "id": "c3713a97",
   "metadata": {},
   "outputs": [],
   "source": [
    "x.remove(1)"
   ]
  },
  {
   "cell_type": "code",
   "execution_count": 14,
   "id": "4fbf00e0",
   "metadata": {},
   "outputs": [
    {
     "data": {
      "text/plain": [
       "{2, 3, 4}"
      ]
     },
     "execution_count": 14,
     "metadata": {},
     "output_type": "execute_result"
    }
   ],
   "source": [
    "x"
   ]
  },
  {
   "cell_type": "code",
   "execution_count": 15,
   "id": "ed792e35",
   "metadata": {},
   "outputs": [],
   "source": [
    "list=(1,2,3,4,5,6,7,8,9)"
   ]
  },
  {
   "cell_type": "code",
   "execution_count": 16,
   "id": "5880f3d8",
   "metadata": {},
   "outputs": [
    {
     "data": {
      "text/plain": [
       "{1, 2, 3, 4, 5, 6, 7, 8, 9}"
      ]
     },
     "execution_count": 16,
     "metadata": {},
     "output_type": "execute_result"
    }
   ],
   "source": [
    "set(list)"
   ]
  },
  {
   "cell_type": "code",
   "execution_count": 17,
   "id": "3436daff",
   "metadata": {},
   "outputs": [],
   "source": [
    "a={1,1,1,2,2,3,3,4,5,5,7,8}"
   ]
  },
  {
   "cell_type": "code",
   "execution_count": 18,
   "id": "75d1b681",
   "metadata": {},
   "outputs": [
    {
     "data": {
      "text/plain": [
       "{1, 2, 3, 4, 5, 7, 8}"
      ]
     },
     "execution_count": 18,
     "metadata": {},
     "output_type": "execute_result"
    }
   ],
   "source": [
    "set(a)"
   ]
  },
  {
   "cell_type": "code",
   "execution_count": 19,
   "id": "76ccd126",
   "metadata": {},
   "outputs": [],
   "source": [
    "#Boolean"
   ]
  },
  {
   "cell_type": "code",
   "execution_count": 20,
   "id": "0715559a",
   "metadata": {},
   "outputs": [],
   "source": [
    "a=True"
   ]
  },
  {
   "cell_type": "code",
   "execution_count": 21,
   "id": "31ecf555",
   "metadata": {},
   "outputs": [],
   "source": [
    "a=1"
   ]
  },
  {
   "cell_type": "code",
   "execution_count": 22,
   "id": "d1661e21",
   "metadata": {},
   "outputs": [],
   "source": [
    "b=22"
   ]
  },
  {
   "cell_type": "code",
   "execution_count": 23,
   "id": "6d367d28",
   "metadata": {},
   "outputs": [
    {
     "data": {
      "text/plain": [
       "False"
      ]
     },
     "execution_count": 23,
     "metadata": {},
     "output_type": "execute_result"
    }
   ],
   "source": [
    "a>2"
   ]
  },
  {
   "cell_type": "code",
   "execution_count": 24,
   "id": "72380a0f",
   "metadata": {},
   "outputs": [
    {
     "data": {
      "text/plain": [
       "False"
      ]
     },
     "execution_count": 24,
     "metadata": {},
     "output_type": "execute_result"
    }
   ],
   "source": [
    "a>b"
   ]
  },
  {
   "cell_type": "code",
   "execution_count": 25,
   "id": "316d8006",
   "metadata": {},
   "outputs": [
    {
     "data": {
      "text/plain": [
       "True"
      ]
     },
     "execution_count": 25,
     "metadata": {},
     "output_type": "execute_result"
    }
   ],
   "source": [
    "a<b"
   ]
  },
  {
   "cell_type": "code",
   "execution_count": 26,
   "id": "a65ef510",
   "metadata": {},
   "outputs": [
    {
     "data": {
      "text/plain": [
       "'C:\\\\Users\\\\User'"
      ]
     },
     "execution_count": 26,
     "metadata": {},
     "output_type": "execute_result"
    }
   ],
   "source": [
    "pwd()"
   ]
  },
  {
   "cell_type": "code",
   "execution_count": 27,
   "id": "ae83a94e",
   "metadata": {},
   "outputs": [
    {
     "data": {
      "text/plain": [
       "True"
      ]
     },
     "execution_count": 27,
     "metadata": {},
     "output_type": "execute_result"
    }
   ],
   "source": [
    "True and True"
   ]
  },
  {
   "cell_type": "code",
   "execution_count": 28,
   "id": "ac66f269",
   "metadata": {},
   "outputs": [
    {
     "data": {
      "text/plain": [
       "False"
      ]
     },
     "execution_count": 28,
     "metadata": {},
     "output_type": "execute_result"
    }
   ],
   "source": [
    "True and False"
   ]
  },
  {
   "cell_type": "code",
   "execution_count": 29,
   "id": "ad1af1d0",
   "metadata": {},
   "outputs": [
    {
     "data": {
      "text/plain": [
       "True"
      ]
     },
     "execution_count": 29,
     "metadata": {},
     "output_type": "execute_result"
    }
   ],
   "source": [
    "True or False"
   ]
  },
  {
   "cell_type": "code",
   "execution_count": 30,
   "id": "ee468f88",
   "metadata": {},
   "outputs": [
    {
     "data": {
      "text/plain": [
       "True"
      ]
     },
     "execution_count": 30,
     "metadata": {},
     "output_type": "execute_result"
    }
   ],
   "source": [
    "True or True"
   ]
  },
  {
   "cell_type": "code",
   "execution_count": 31,
   "id": "6b42fd5e",
   "metadata": {},
   "outputs": [
    {
     "data": {
      "text/plain": [
       "True"
      ]
     },
     "execution_count": 31,
     "metadata": {},
     "output_type": "execute_result"
    }
   ],
   "source": [
    "2==2"
   ]
  },
  {
   "cell_type": "code",
   "execution_count": 32,
   "id": "85934571",
   "metadata": {},
   "outputs": [
    {
     "data": {
      "text/plain": [
       "False"
      ]
     },
     "execution_count": 32,
     "metadata": {},
     "output_type": "execute_result"
    }
   ],
   "source": [
    "1==0"
   ]
  },
  {
   "cell_type": "code",
   "execution_count": 33,
   "id": "cc4b7dec",
   "metadata": {},
   "outputs": [
    {
     "data": {
      "text/plain": [
       "False"
      ]
     },
     "execution_count": 33,
     "metadata": {},
     "output_type": "execute_result"
    }
   ],
   "source": [
    "2!=2"
   ]
  },
  {
   "cell_type": "code",
   "execution_count": 34,
   "id": "8120298e",
   "metadata": {},
   "outputs": [
    {
     "data": {
      "text/plain": [
       "True"
      ]
     },
     "execution_count": 34,
     "metadata": {},
     "output_type": "execute_result"
    }
   ],
   "source": [
    "2>1"
   ]
  },
  {
   "cell_type": "code",
   "execution_count": 35,
   "id": "809946ff",
   "metadata": {},
   "outputs": [
    {
     "data": {
      "text/plain": [
       "True"
      ]
     },
     "execution_count": 35,
     "metadata": {},
     "output_type": "execute_result"
    }
   ],
   "source": [
    "2!=4"
   ]
  },
  {
   "cell_type": "code",
   "execution_count": 36,
   "id": "f4c1f17f",
   "metadata": {},
   "outputs": [
    {
     "data": {
      "text/plain": [
       "True"
      ]
     },
     "execution_count": 36,
     "metadata": {},
     "output_type": "execute_result"
    }
   ],
   "source": [
    "1<2<3"
   ]
  },
  {
   "cell_type": "code",
   "execution_count": 37,
   "id": "2ecd8015",
   "metadata": {},
   "outputs": [
    {
     "data": {
      "text/plain": [
       "True"
      ]
     },
     "execution_count": 37,
     "metadata": {},
     "output_type": "execute_result"
    }
   ],
   "source": [
    "1==1 and 100==100"
   ]
  },
  {
   "cell_type": "code",
   "execution_count": 38,
   "id": "14ab74f8",
   "metadata": {},
   "outputs": [
    {
     "data": {
      "text/plain": [
       "True"
      ]
     },
     "execution_count": 38,
     "metadata": {},
     "output_type": "execute_result"
    }
   ],
   "source": [
    "1<2 or 100==100"
   ]
  },
  {
   "cell_type": "code",
   "execution_count": 39,
   "id": "ed27bdf3",
   "metadata": {},
   "outputs": [
    {
     "name": "stdout",
     "output_type": "stream",
     "text": [
      "Enter the marks89\n",
      "Distinction\n"
     ]
    }
   ],
   "source": [
    "marks=int(input(\"Enter the marks\"))\n",
    "\n",
    "if marks >= 85 :\n",
    "    print(\"Distinction\")\n",
    "elif marks>= 35 :\n",
    "    print(\"Pass\")\n",
    "else:\n",
    "    print(\"Fail\")"
   ]
  },
  {
   "cell_type": "code",
   "execution_count": 41,
   "id": "213bb918",
   "metadata": {},
   "outputs": [
    {
     "name": "stdout",
     "output_type": "stream",
     "text": [
      "Enter the location Bank\n",
      "Im in the Bank\n"
     ]
    }
   ],
   "source": [
    "Location=input(\"Enter the location\")\n",
    "\n",
    "if Location == \" Bank\":\n",
    "    print(\"Im in the Bank\")\n",
    "elif Location == \"Stadium\":\n",
    "    print(\"I'm watching cricket at stadium\")\n",
    "else:\n",
    "    print(\"Where are you?\")"
   ]
  },
  {
   "cell_type": "code",
   "execution_count": 42,
   "id": "10a25fc0",
   "metadata": {},
   "outputs": [],
   "source": [
    "list=[1,2,3,4,5]"
   ]
  },
  {
   "cell_type": "code",
   "execution_count": 43,
   "id": "bd61cd50",
   "metadata": {},
   "outputs": [
    {
     "name": "stdout",
     "output_type": "stream",
     "text": [
      "1\n",
      "2\n",
      "3\n",
      "4\n",
      "5\n"
     ]
    }
   ],
   "source": [
    "for num in list:\n",
    "    print(num)"
   ]
  },
  {
   "cell_type": "code",
   "execution_count": 53,
   "id": "29727315",
   "metadata": {},
   "outputs": [
    {
     "name": "stdout",
     "output_type": "stream",
     "text": [
      "Enter the number2\n",
      "Number is even\n"
     ]
    }
   ],
   "source": [
    "number=int(input(\"Enter the number\"))\n",
    "\n",
    "if number%2==0:\n",
    "    print(\"Number is even\")\n",
    "else:\n",
    "    print(\"Number is Odd\")\n",
    "    \n"
   ]
  },
  {
   "cell_type": "code",
   "execution_count": 54,
   "id": "6aa08ff0",
   "metadata": {},
   "outputs": [
    {
     "name": "stdout",
     "output_type": "stream",
     "text": [
      "0\n",
      "1\n",
      "2\n",
      "3\n",
      "4\n",
      "5\n",
      "6\n",
      "7\n",
      "8\n",
      "9\n"
     ]
    }
   ],
   "source": [
    "for i in range(10):\n",
    "    print(i)"
   ]
  },
  {
   "cell_type": "code",
   "execution_count": 56,
   "id": "3c217cf4",
   "metadata": {},
   "outputs": [
    {
     "name": "stdout",
     "output_type": "stream",
     "text": [
      "0\n",
      "1\n",
      "2\n",
      "3\n",
      "4\n",
      "5\n"
     ]
    }
   ],
   "source": [
    "for i in range(6):\n",
    "    print(i)"
   ]
  },
  {
   "cell_type": "code",
   "execution_count": 57,
   "id": "5d367fb3",
   "metadata": {},
   "outputs": [
    {
     "name": "stdout",
     "output_type": "stream",
     "text": [
      "M\n",
      "y\n",
      " \n",
      "n\n",
      "a\n",
      "m\n",
      "e\n",
      " \n",
      "i\n",
      "s\n",
      " \n",
      "R\n",
      "o\n",
      "h\n",
      "i\n",
      "t\n",
      "h\n"
     ]
    }
   ],
   "source": [
    "Letter=\"My name is Rohith\"\n",
    "for letters in Letter:\n",
    "    print(letters)"
   ]
  },
  {
   "cell_type": "code",
   "execution_count": 58,
   "id": "8cddc79c",
   "metadata": {},
   "outputs": [
    {
     "name": "stdout",
     "output_type": "stream",
     "text": [
      "1\n",
      "2\n",
      "3\n",
      "4\n"
     ]
    }
   ],
   "source": [
    "tuples=(1,2,3,4)\n",
    "\n",
    "for value in tuples:\n",
    "    print(value)"
   ]
  },
  {
   "cell_type": "code",
   "execution_count": 61,
   "id": "d5546cb2",
   "metadata": {},
   "outputs": [
    {
     "name": "stdout",
     "output_type": "stream",
     "text": [
      "(1, 2)\n",
      "(3, 4)\n",
      "(5, 6)\n"
     ]
    }
   ],
   "source": [
    "list=[(1,2),(3,4),(5,6)]\n",
    "\n",
    "for tuple in list :\n",
    "    print (tuple)\n"
   ]
  },
  {
   "cell_type": "code",
   "execution_count": 63,
   "id": "a325eabf",
   "metadata": {},
   "outputs": [
    {
     "name": "stdout",
     "output_type": "stream",
     "text": [
      "1\n",
      "3\n",
      "5\n"
     ]
    }
   ],
   "source": [
    "for (t1,t2) in list:\n",
    "    print(t1)"
   ]
  },
  {
   "cell_type": "code",
   "execution_count": 64,
   "id": "f6197fe8",
   "metadata": {},
   "outputs": [],
   "source": [
    "dictionary={'key1':'value1','key2':'value2'}"
   ]
  },
  {
   "cell_type": "code",
   "execution_count": 65,
   "id": "2d3ee26c",
   "metadata": {},
   "outputs": [
    {
     "name": "stdout",
     "output_type": "stream",
     "text": [
      "key1\n",
      "key2\n"
     ]
    }
   ],
   "source": [
    "for keys in dictionary:\n",
    "    print(keys)"
   ]
  },
  {
   "cell_type": "code",
   "execution_count": 73,
   "id": "49de08e0",
   "metadata": {},
   "outputs": [
    {
     "name": "stdout",
     "output_type": "stream",
     "text": [
      "20\n",
      "18\n",
      "16\n",
      "14\n",
      "12\n",
      "8\n"
     ]
    }
   ],
   "source": [
    "for i in range(20,2,-2):\n",
    "    if i==6:\n",
    "        break\n",
    "    elif i==10:\n",
    "        continue\n",
    "    print(i)"
   ]
  },
  {
   "cell_type": "code",
   "execution_count": 82,
   "id": "c9d9a60e",
   "metadata": {},
   "outputs": [
    {
     "name": "stdout",
     "output_type": "stream",
     "text": [
      "1\n",
      "2\n",
      "3\n",
      "4\n",
      "5\n",
      "6\n",
      "7\n",
      "8\n",
      "9\n",
      "10\n",
      "11\n",
      "All done\n"
     ]
    }
   ],
   "source": [
    "x=0\n",
    "\n",
    "while x<=10:\n",
    "    x+=1\n",
    "    print(x)\n",
    "else:\n",
    "    print(\"All done\")"
   ]
  },
  {
   "cell_type": "code",
   "execution_count": 83,
   "id": "741f0c04",
   "metadata": {},
   "outputs": [
    {
     "name": "stdout",
     "output_type": "stream",
     "text": [
      "0\n",
      "1\n",
      "2\n",
      "3\n",
      "4\n"
     ]
    }
   ],
   "source": [
    "for i in range(5):\n",
    "    print(i)"
   ]
  },
  {
   "cell_type": "code",
   "execution_count": 91,
   "id": "a0e8ead9",
   "metadata": {},
   "outputs": [],
   "source": [
    "import numpy as np\n",
    "a=np.arange(10)"
   ]
  },
  {
   "cell_type": "code",
   "execution_count": 92,
   "id": "ad67a48e",
   "metadata": {},
   "outputs": [
    {
     "data": {
      "text/plain": [
       "array([0, 1, 2, 3, 4, 5, 6, 7, 8, 9])"
      ]
     },
     "execution_count": 92,
     "metadata": {},
     "output_type": "execute_result"
    }
   ],
   "source": [
    "a"
   ]
  },
  {
   "cell_type": "code",
   "execution_count": 98,
   "id": "7178c653",
   "metadata": {},
   "outputs": [],
   "source": [
    "a=(1,2)\n",
    "b=(4,5)"
   ]
  },
  {
   "cell_type": "code",
   "execution_count": 101,
   "id": "6c1050c5",
   "metadata": {},
   "outputs": [
    {
     "name": "stdout",
     "output_type": "stream",
     "text": [
      "{1: 4, 2: 5}\n"
     ]
    }
   ],
   "source": [
    "z=dict(zip(a,b))\n",
    "print(z)"
   ]
  },
  {
   "cell_type": "code",
   "execution_count": 108,
   "id": "0273a5f9",
   "metadata": {},
   "outputs": [],
   "source": [
    "q=[1,2,3]"
   ]
  },
  {
   "cell_type": "code",
   "execution_count": 109,
   "id": "44257761",
   "metadata": {},
   "outputs": [
    {
     "data": {
      "text/plain": [
       "True"
      ]
     },
     "execution_count": 109,
     "metadata": {},
     "output_type": "execute_result"
    }
   ],
   "source": [
    "1 in q"
   ]
  },
  {
   "cell_type": "code",
   "execution_count": 110,
   "id": "e1ededb1",
   "metadata": {},
   "outputs": [],
   "source": [
    "y=(1,1,2,3,4,3,2,4,55,66,77,865,3,2,34,567,87,6543,21,2345,678,643)"
   ]
  },
  {
   "cell_type": "code",
   "execution_count": 111,
   "id": "fcbd7371",
   "metadata": {},
   "outputs": [
    {
     "data": {
      "text/plain": [
       "6543"
      ]
     },
     "execution_count": 111,
     "metadata": {},
     "output_type": "execute_result"
    }
   ],
   "source": [
    "max(y)"
   ]
  },
  {
   "cell_type": "code",
   "execution_count": 112,
   "id": "266f383d",
   "metadata": {},
   "outputs": [
    {
     "data": {
      "text/plain": [
       "1"
      ]
     },
     "execution_count": 112,
     "metadata": {},
     "output_type": "execute_result"
    }
   ],
   "source": [
    "min(y)"
   ]
  },
  {
   "cell_type": "code",
   "execution_count": 113,
   "id": "28a03889",
   "metadata": {},
   "outputs": [],
   "source": [
    "from random import randint"
   ]
  },
  {
   "cell_type": "code",
   "execution_count": 114,
   "id": "9e12913b",
   "metadata": {},
   "outputs": [],
   "source": [
    "from random import *"
   ]
  },
  {
   "cell_type": "code",
   "execution_count": 120,
   "id": "2197c1db",
   "metadata": {},
   "outputs": [],
   "source": [
    "s=randint(0,10)\n",
    "    "
   ]
  },
  {
   "cell_type": "code",
   "execution_count": 121,
   "id": "a215f0ef",
   "metadata": {},
   "outputs": [
    {
     "data": {
      "text/plain": [
       "6"
      ]
     },
     "execution_count": 121,
     "metadata": {},
     "output_type": "execute_result"
    }
   ],
   "source": [
    "s"
   ]
  },
  {
   "cell_type": "code",
   "execution_count": 122,
   "id": "62f4c8a7",
   "metadata": {},
   "outputs": [],
   "source": [
    "a=[x for x in 'word']"
   ]
  },
  {
   "cell_type": "code",
   "execution_count": 123,
   "id": "dc31ec86",
   "metadata": {},
   "outputs": [
    {
     "data": {
      "text/plain": [
       "['w', 'o', 'r', 'd']"
      ]
     },
     "execution_count": 123,
     "metadata": {},
     "output_type": "execute_result"
    }
   ],
   "source": [
    "a"
   ]
  },
  {
   "cell_type": "code",
   "execution_count": 124,
   "id": "e982e2df",
   "metadata": {},
   "outputs": [],
   "source": [
    "b=[x for x in range(0,12)]"
   ]
  },
  {
   "cell_type": "code",
   "execution_count": 125,
   "id": "f0c0dedf",
   "metadata": {},
   "outputs": [
    {
     "data": {
      "text/plain": [
       "[0, 1, 2, 3, 4, 5, 6, 7, 8, 9, 10, 11]"
      ]
     },
     "execution_count": 125,
     "metadata": {},
     "output_type": "execute_result"
    }
   ],
   "source": [
    "b"
   ]
  },
  {
   "cell_type": "code",
   "execution_count": 126,
   "id": "e15961af",
   "metadata": {},
   "outputs": [],
   "source": [
    "c=[x for x in range(0,12) if x%2==0]"
   ]
  },
  {
   "cell_type": "code",
   "execution_count": 127,
   "id": "1908f9bb",
   "metadata": {},
   "outputs": [
    {
     "data": {
      "text/plain": [
       "[0, 2, 4, 6, 8, 10]"
      ]
     },
     "execution_count": 127,
     "metadata": {},
     "output_type": "execute_result"
    }
   ],
   "source": [
    "c"
   ]
  },
  {
   "cell_type": "code",
   "execution_count": 130,
   "id": "7b70b972",
   "metadata": {},
   "outputs": [],
   "source": [
    "d=[x*x for x in[x*x for x in range(0,5)]]"
   ]
  },
  {
   "cell_type": "code",
   "execution_count": 131,
   "id": "d2b55bc6",
   "metadata": {},
   "outputs": [
    {
     "data": {
      "text/plain": [
       "[0, 1, 16, 81, 256]"
      ]
     },
     "execution_count": 131,
     "metadata": {},
     "output_type": "execute_result"
    }
   ],
   "source": [
    "d"
   ]
  },
  {
   "cell_type": "code",
   "execution_count": 132,
   "id": "729bd077",
   "metadata": {},
   "outputs": [],
   "source": [
    "# Functions"
   ]
  },
  {
   "cell_type": "code",
   "execution_count": 133,
   "id": "98cbe666",
   "metadata": {},
   "outputs": [],
   "source": [
    "def greetings(name):\n",
    "    print(\"Hello %s\" %name)"
   ]
  },
  {
   "cell_type": "code",
   "execution_count": 134,
   "id": "eea38046",
   "metadata": {},
   "outputs": [
    {
     "name": "stdout",
     "output_type": "stream",
     "text": [
      "Hello Rohit\n"
     ]
    }
   ],
   "source": [
    "greetings(\"Rohit\")"
   ]
  },
  {
   "cell_type": "code",
   "execution_count": 135,
   "id": "7aa25a18",
   "metadata": {},
   "outputs": [],
   "source": [
    "def add(n1,n2): # Add two numbers\n",
    "    print(n1+n2)"
   ]
  },
  {
   "cell_type": "code",
   "execution_count": 136,
   "id": "55b257cc",
   "metadata": {},
   "outputs": [
    {
     "name": "stdout",
     "output_type": "stream",
     "text": [
      "5\n"
     ]
    }
   ],
   "source": [
    "add(1,4)"
   ]
  },
  {
   "cell_type": "code",
   "execution_count": 144,
   "id": "8a09cff8",
   "metadata": {},
   "outputs": [],
   "source": [
    "# To check the number is prime or not\n",
    "\n",
    "def prime_or_not(num): # Program to check number is Prime or not\n",
    "    \n",
    "    for value in range(2,num):\n",
    "        if num%value==0:\n",
    "            print(\"Number is not Prime\")\n",
    "            break\n",
    "        else:\n",
    "            print(\"Number is Prime\")"
   ]
  },
  {
   "cell_type": "code",
   "execution_count": 145,
   "id": "525a9b18",
   "metadata": {},
   "outputs": [
    {
     "name": "stdout",
     "output_type": "stream",
     "text": [
      "Number is not Prime\n"
     ]
    }
   ],
   "source": [
    "prime_or_not(10)"
   ]
  },
  {
   "cell_type": "code",
   "execution_count": 146,
   "id": "3084dd8e",
   "metadata": {},
   "outputs": [],
   "source": [
    "def num(a,b):\n",
    "    if a%2==0 and b%2==0:\n",
    "        return min(a,b)\n",
    "    else:\n",
    "        return max(a,b)"
   ]
  },
  {
   "cell_type": "code",
   "execution_count": 147,
   "id": "3f3031fe",
   "metadata": {},
   "outputs": [
    {
     "data": {
      "text/plain": [
       "6"
      ]
     },
     "execution_count": 147,
     "metadata": {},
     "output_type": "execute_result"
    }
   ],
   "source": [
    "num(3,6)"
   ]
  },
  {
   "cell_type": "code",
   "execution_count": 148,
   "id": "8c3147f1",
   "metadata": {},
   "outputs": [
    {
     "data": {
      "text/plain": [
       "2"
      ]
     },
     "execution_count": 148,
     "metadata": {},
     "output_type": "execute_result"
    }
   ],
   "source": [
    "num(2,4)"
   ]
  },
  {
   "cell_type": "code",
   "execution_count": null,
   "id": "e2549267",
   "metadata": {},
   "outputs": [],
   "source": [
    "#Write a function takes a two-word string and returns True if both words begin with same letter"
   ]
  },
  {
   "cell_type": "code",
   "execution_count": 149,
   "id": "d10e0f35",
   "metadata": {},
   "outputs": [],
   "source": [
    "def word(text):\n",
    "    a=text.split()\n",
    "    return a[0][0]==a[1][0]"
   ]
  },
  {
   "cell_type": "code",
   "execution_count": 150,
   "id": "cb324eff",
   "metadata": {},
   "outputs": [
    {
     "data": {
      "text/plain": [
       "True"
      ]
     },
     "execution_count": 150,
     "metadata": {},
     "output_type": "execute_result"
    }
   ],
   "source": [
    "word('New Nottingham')"
   ]
  },
  {
   "cell_type": "code",
   "execution_count": 151,
   "id": "5312b5b8",
   "metadata": {},
   "outputs": [],
   "source": [
    "# Program to check number is perfect square or not:\n",
    "\n",
    "def perfect_square(num):\n",
    "    sqrt= num**(1/2)\n",
    "    if sqrt%1==0:\n",
    "        return \"Number is Perfect Square\"\n",
    "    else:\n",
    "        return \"Number is not Perfect Square\""
   ]
  },
  {
   "cell_type": "code",
   "execution_count": 152,
   "id": "04c90845",
   "metadata": {},
   "outputs": [
    {
     "data": {
      "text/plain": [
       "'Number is not Perfect Square'"
      ]
     },
     "execution_count": 152,
     "metadata": {},
     "output_type": "execute_result"
    }
   ],
   "source": [
    "perfect_square(44)"
   ]
  },
  {
   "cell_type": "code",
   "execution_count": 153,
   "id": "84912d7e",
   "metadata": {},
   "outputs": [
    {
     "data": {
      "text/plain": [
       "'Number is Perfect Square'"
      ]
     },
     "execution_count": 153,
     "metadata": {},
     "output_type": "execute_result"
    }
   ],
   "source": [
    "perfect_square(4)"
   ]
  },
  {
   "cell_type": "code",
   "execution_count": 154,
   "id": "bf857ef5",
   "metadata": {},
   "outputs": [],
   "source": [
    "def p_square(num):\n",
    "    square=num**(1/2)\n",
    "    if square%1==0:\n",
    "        return True\n",
    "    else:\n",
    "        return False\n"
   ]
  },
  {
   "cell_type": "code",
   "execution_count": 155,
   "id": "69f041b2",
   "metadata": {},
   "outputs": [
    {
     "data": {
      "text/plain": [
       "False"
      ]
     },
     "execution_count": 155,
     "metadata": {},
     "output_type": "execute_result"
    }
   ],
   "source": [
    "p_square(88)"
   ]
  },
  {
   "cell_type": "code",
   "execution_count": 156,
   "id": "85f56b51",
   "metadata": {},
   "outputs": [
    {
     "name": "stdout",
     "output_type": "stream",
     "text": [
      "1\n",
      "4\n",
      "9\n",
      "16\n",
      "25\n",
      "36\n",
      "49\n",
      "64\n",
      "81\n"
     ]
    }
   ],
   "source": [
    "for num in range(1,100):\n",
    "    if p_square(num):\n",
    "        print(num)\n",
    "    "
   ]
  },
  {
   "cell_type": "code",
   "execution_count": 162,
   "id": "d34ab812",
   "metadata": {},
   "outputs": [],
   "source": [
    "## Program to add numbers\n",
    "\n",
    "def add(*args):\n",
    "    total=0\n",
    "    \n",
    "    for values in args:\n",
    "        total+=values\n",
    "    return total"
   ]
  },
  {
   "cell_type": "code",
   "execution_count": 163,
   "id": "b945ad5b",
   "metadata": {},
   "outputs": [
    {
     "data": {
      "text/plain": [
       "3"
      ]
     },
     "execution_count": 163,
     "metadata": {},
     "output_type": "execute_result"
    }
   ],
   "source": [
    "add(1,2)"
   ]
  },
  {
   "cell_type": "code",
   "execution_count": 164,
   "id": "77b97186",
   "metadata": {},
   "outputs": [],
   "source": [
    "def addition(*args):\n",
    "    \n",
    "    a=0\n",
    "    for i in args:\n",
    "        a+=i\n",
    "    return a"
   ]
  },
  {
   "cell_type": "code",
   "execution_count": 165,
   "id": "dfdcf7d8",
   "metadata": {},
   "outputs": [
    {
     "data": {
      "text/plain": [
       "6"
      ]
     },
     "execution_count": 165,
     "metadata": {},
     "output_type": "execute_result"
    }
   ],
   "source": [
    "addition(1,2,3)"
   ]
  },
  {
   "cell_type": "code",
   "execution_count": 166,
   "id": "92cc7797",
   "metadata": {},
   "outputs": [],
   "source": [
    "## To find factorial of number"
   ]
  },
  {
   "cell_type": "code",
   "execution_count": 167,
   "id": "f33d6f7a",
   "metadata": {},
   "outputs": [],
   "source": [
    "def factorial(num):\n",
    "    if num==1:\n",
    "        return 1\n",
    "    return num*factorial(num-1)"
   ]
  },
  {
   "cell_type": "code",
   "execution_count": 168,
   "id": "79ad80c5",
   "metadata": {},
   "outputs": [
    {
     "data": {
      "text/plain": [
       "720"
      ]
     },
     "execution_count": 168,
     "metadata": {},
     "output_type": "execute_result"
    }
   ],
   "source": [
    "factorial(6)"
   ]
  },
  {
   "cell_type": "code",
   "execution_count": 169,
   "id": "29bd3481",
   "metadata": {},
   "outputs": [],
   "source": [
    "def fact(num):\n",
    "    a=1\n",
    "    for i in range(1,1+num):\n",
    "        a*=i\n",
    "    return a"
   ]
  },
  {
   "cell_type": "code",
   "execution_count": 170,
   "id": "d0ca07f1",
   "metadata": {},
   "outputs": [
    {
     "data": {
      "text/plain": [
       "6"
      ]
     },
     "execution_count": 170,
     "metadata": {},
     "output_type": "execute_result"
    }
   ],
   "source": [
    "fact(3)"
   ]
  },
  {
   "cell_type": "code",
   "execution_count": 171,
   "id": "1fea388b",
   "metadata": {},
   "outputs": [
    {
     "data": {
      "text/plain": [
       "720"
      ]
     },
     "execution_count": 171,
     "metadata": {},
     "output_type": "execute_result"
    }
   ],
   "source": [
    "fact(6)"
   ]
  },
  {
   "cell_type": "code",
   "execution_count": 176,
   "id": "0ffcfbfd",
   "metadata": {},
   "outputs": [],
   "source": [
    "def unique(num):\n",
    "    total=[]\n",
    "    for values in num:\n",
    "        if values not in total:\n",
    "            total.append(values)\n",
    "    return total"
   ]
  },
  {
   "cell_type": "code",
   "execution_count": 178,
   "id": "eff55fca",
   "metadata": {},
   "outputs": [
    {
     "data": {
      "text/plain": [
       "[1, 2, 3, 5, 6, 7, 8]"
      ]
     },
     "execution_count": 178,
     "metadata": {},
     "output_type": "execute_result"
    }
   ],
   "source": [
    "unique([1,2,3,2,3,2,5,6,6,7,8])"
   ]
  },
  {
   "cell_type": "code",
   "execution_count": 181,
   "id": "a511b109",
   "metadata": {},
   "outputs": [],
   "source": [
    "def unique(num):\n",
    "    a=[]\n",
    "    for values in num:\n",
    "        if values not in a:\n",
    "            a.append(values)\n",
    "    return a"
   ]
  },
  {
   "cell_type": "code",
   "execution_count": 183,
   "id": "4348c3ea",
   "metadata": {},
   "outputs": [
    {
     "data": {
      "text/plain": [
       "[1, 2, 3, 4]"
      ]
     },
     "execution_count": 183,
     "metadata": {},
     "output_type": "execute_result"
    }
   ],
   "source": [
    "unique([1,1,2,3,2,1,2,3,4,4])"
   ]
  },
  {
   "cell_type": "code",
   "execution_count": 184,
   "id": "ba7c0ed2",
   "metadata": {},
   "outputs": [],
   "source": [
    "#lambda functions\n",
    "#Ananymous way of creating functions\n",
    "square =lambda x:x**2"
   ]
  },
  {
   "cell_type": "code",
   "execution_count": 185,
   "id": "7b607f25",
   "metadata": {},
   "outputs": [
    {
     "data": {
      "text/plain": [
       "4"
      ]
     },
     "execution_count": 185,
     "metadata": {},
     "output_type": "execute_result"
    }
   ],
   "source": [
    "square(2)"
   ]
  },
  {
   "cell_type": "code",
   "execution_count": 186,
   "id": "d3357e20",
   "metadata": {},
   "outputs": [],
   "source": [
    "##Multiply numbers\n",
    "\n",
    "\n",
    "def multiply_num(*args):\n",
    "    a=1\n",
    "    for values in args:\n",
    "        a*=values\n",
    "    return a"
   ]
  },
  {
   "cell_type": "code",
   "execution_count": 188,
   "id": "d1cf9753",
   "metadata": {},
   "outputs": [
    {
     "data": {
      "text/plain": [
       "720"
      ]
     },
     "execution_count": 188,
     "metadata": {},
     "output_type": "execute_result"
    }
   ],
   "source": [
    "multiply_num(1,2,3,4,5,6)"
   ]
  },
  {
   "cell_type": "code",
   "execution_count": 189,
   "id": "1fbd3c35",
   "metadata": {},
   "outputs": [],
   "source": [
    "# palindrom or not\n",
    "\n",
    "def palindrome(text):\n",
    "    s=text.replace(\" \", \" \")\n",
    "    return s==s[::-1]"
   ]
  },
  {
   "cell_type": "code",
   "execution_count": 190,
   "id": "eeeddb69",
   "metadata": {},
   "outputs": [
    {
     "data": {
      "text/plain": [
       "True"
      ]
     },
     "execution_count": 190,
     "metadata": {},
     "output_type": "execute_result"
    }
   ],
   "source": [
    "palindrome('abcba')"
   ]
  },
  {
   "cell_type": "code",
   "execution_count": null,
   "id": "14a5b200",
   "metadata": {},
   "outputs": [],
   "source": []
  }
 ],
 "metadata": {
  "kernelspec": {
   "display_name": "Python 3",
   "language": "python",
   "name": "python3"
  },
  "language_info": {
   "codemirror_mode": {
    "name": "ipython",
    "version": 3
   },
   "file_extension": ".py",
   "mimetype": "text/x-python",
   "name": "python",
   "nbconvert_exporter": "python",
   "pygments_lexer": "ipython3",
   "version": "3.8.8"
  }
 },
 "nbformat": 4,
 "nbformat_minor": 5
}
