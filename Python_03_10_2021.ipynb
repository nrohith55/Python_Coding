{
 "cells": [
  {
   "cell_type": "code",
   "execution_count": 1,
   "id": "7e01fd62",
   "metadata": {},
   "outputs": [],
   "source": [
    "# First Python program"
   ]
  },
  {
   "cell_type": "code",
   "execution_count": 2,
   "id": "b6c1691b",
   "metadata": {},
   "outputs": [
    {
     "name": "stdout",
     "output_type": "stream",
     "text": [
      "Welcome to datascience program\n"
     ]
    }
   ],
   "source": [
    "print(\"Welcome to datascience program\")"
   ]
  },
  {
   "cell_type": "code",
   "execution_count": 3,
   "id": "b5304983",
   "metadata": {},
   "outputs": [
    {
     "name": "stdout",
     "output_type": "stream",
     "text": [
      "Hello World\n"
     ]
    }
   ],
   "source": [
    "print('Hello World')"
   ]
  },
  {
   "cell_type": "code",
   "execution_count": 4,
   "id": "3f253c66",
   "metadata": {},
   "outputs": [
    {
     "name": "stdout",
     "output_type": "stream",
     "text": [
      "Bindu replied Varun's session is okay\n"
     ]
    }
   ],
   "source": [
    "print(\"Bindu replied Varun's session is okay\")"
   ]
  },
  {
   "cell_type": "code",
   "execution_count": 5,
   "id": "5a0de585",
   "metadata": {},
   "outputs": [],
   "source": [
    "# Create a variable"
   ]
  },
  {
   "cell_type": "code",
   "execution_count": 6,
   "id": "3f7464bd",
   "metadata": {},
   "outputs": [],
   "source": [
    "participants = 10,20,30,40,50"
   ]
  },
  {
   "cell_type": "code",
   "execution_count": 7,
   "id": "8347d4d9",
   "metadata": {},
   "outputs": [
    {
     "data": {
      "text/plain": [
       "(10, 20, 30, 40, 50)"
      ]
     },
     "execution_count": 7,
     "metadata": {},
     "output_type": "execute_result"
    }
   ],
   "source": [
    "participants"
   ]
  },
  {
   "cell_type": "code",
   "execution_count": 8,
   "id": "504e6653",
   "metadata": {},
   "outputs": [
    {
     "data": {
      "text/plain": [
       "5"
      ]
     },
     "execution_count": 8,
     "metadata": {},
     "output_type": "execute_result"
    }
   ],
   "source": [
    "len(participants)"
   ]
  },
  {
   "cell_type": "code",
   "execution_count": 9,
   "id": "d5e22cdd",
   "metadata": {},
   "outputs": [
    {
     "data": {
      "text/plain": [
       "10"
      ]
     },
     "execution_count": 9,
     "metadata": {},
     "output_type": "execute_result"
    }
   ],
   "source": [
    "participants[0]"
   ]
  },
  {
   "cell_type": "code",
   "execution_count": 10,
   "id": "e29f60a4",
   "metadata": {},
   "outputs": [
    {
     "data": {
      "text/plain": [
       "40"
      ]
     },
     "execution_count": 10,
     "metadata": {},
     "output_type": "execute_result"
    }
   ],
   "source": [
    "participants[3]"
   ]
  },
  {
   "cell_type": "code",
   "execution_count": 11,
   "id": "b7ac11fa",
   "metadata": {},
   "outputs": [
    {
     "data": {
      "text/plain": [
       "(20, 30, 40, 50)"
      ]
     },
     "execution_count": 11,
     "metadata": {},
     "output_type": "execute_result"
    }
   ],
   "source": [
    "participants[1:]"
   ]
  },
  {
   "cell_type": "code",
   "execution_count": 12,
   "id": "9a0ea43f",
   "metadata": {},
   "outputs": [
    {
     "data": {
      "text/plain": [
       "(10, 20, 30, 40)"
      ]
     },
     "execution_count": 12,
     "metadata": {},
     "output_type": "execute_result"
    }
   ],
   "source": [
    "participants[0:4]"
   ]
  },
  {
   "cell_type": "code",
   "execution_count": 13,
   "id": "8221cd6f",
   "metadata": {},
   "outputs": [],
   "source": [
    "#In python we have different data types"
   ]
  },
  {
   "cell_type": "code",
   "execution_count": 14,
   "id": "96c4aa50",
   "metadata": {},
   "outputs": [],
   "source": [
    "#int - integer :Number without decimal point\n",
    "#float :Number with decimal point\n",
    "#str -String : Anthong enclosed within quotes"
   ]
  },
  {
   "cell_type": "code",
   "execution_count": 15,
   "id": "4da98ae8",
   "metadata": {},
   "outputs": [],
   "source": [
    "rcb_score = 165"
   ]
  },
  {
   "cell_type": "code",
   "execution_count": 16,
   "id": "5da558cc",
   "metadata": {},
   "outputs": [
    {
     "data": {
      "text/plain": [
       "int"
      ]
     },
     "execution_count": 16,
     "metadata": {},
     "output_type": "execute_result"
    }
   ],
   "source": [
    "type(rcb_score)"
   ]
  },
  {
   "cell_type": "code",
   "execution_count": 17,
   "id": "e141c547",
   "metadata": {},
   "outputs": [],
   "source": [
    "a=9.9"
   ]
  },
  {
   "cell_type": "code",
   "execution_count": 18,
   "id": "7a0af140",
   "metadata": {},
   "outputs": [
    {
     "data": {
      "text/plain": [
       "float"
      ]
     },
     "execution_count": 18,
     "metadata": {},
     "output_type": "execute_result"
    }
   ],
   "source": [
    "type(a)"
   ]
  },
  {
   "cell_type": "code",
   "execution_count": 19,
   "id": "54b76011",
   "metadata": {},
   "outputs": [],
   "source": [
    "avg_marks='99.3'"
   ]
  },
  {
   "cell_type": "code",
   "execution_count": 20,
   "id": "5280e287",
   "metadata": {},
   "outputs": [
    {
     "data": {
      "text/plain": [
       "str"
      ]
     },
     "execution_count": 20,
     "metadata": {},
     "output_type": "execute_result"
    }
   ],
   "source": [
    "type(avg_marks)"
   ]
  },
  {
   "cell_type": "code",
   "execution_count": 21,
   "id": "c5b7b96f",
   "metadata": {},
   "outputs": [],
   "source": [
    "bng=0.9"
   ]
  },
  {
   "cell_type": "code",
   "execution_count": 22,
   "id": "6a05ea85",
   "metadata": {},
   "outputs": [
    {
     "data": {
      "text/plain": [
       "float"
      ]
     },
     "execution_count": 22,
     "metadata": {},
     "output_type": "execute_result"
    }
   ],
   "source": [
    "type(bng)"
   ]
  },
  {
   "cell_type": "code",
   "execution_count": 23,
   "id": "03158e26",
   "metadata": {},
   "outputs": [
    {
     "name": "stdout",
     "output_type": "stream",
     "text": [
      "Rohith\n",
      "Rahul\n"
     ]
    }
   ],
   "source": [
    "learner1='Rohith'\n",
    "learner2='Rahul'\n",
    "print(learner1)\n",
    "print(learner2)\n"
   ]
  },
  {
   "cell_type": "code",
   "execution_count": 24,
   "id": "71f1a348",
   "metadata": {},
   "outputs": [],
   "source": [
    "#### Methods/Functions - is an operation that we are performing on a variable. It need to be ended with ()."
   ]
  },
  {
   "cell_type": "code",
   "execution_count": 25,
   "id": "6ffa655d",
   "metadata": {},
   "outputs": [],
   "source": [
    "a='london'"
   ]
  },
  {
   "cell_type": "code",
   "execution_count": 26,
   "id": "ebbc6778",
   "metadata": {},
   "outputs": [
    {
     "data": {
      "text/plain": [
       "'London'"
      ]
     },
     "execution_count": 26,
     "metadata": {},
     "output_type": "execute_result"
    }
   ],
   "source": [
    "a.capitalize()"
   ]
  },
  {
   "cell_type": "code",
   "execution_count": 27,
   "id": "ddf26847",
   "metadata": {},
   "outputs": [
    {
     "data": {
      "text/plain": [
       "'LONDON'"
      ]
     },
     "execution_count": 27,
     "metadata": {},
     "output_type": "execute_result"
    }
   ],
   "source": [
    "a.upper()"
   ]
  },
  {
   "cell_type": "code",
   "execution_count": 28,
   "id": "38a045a8",
   "metadata": {},
   "outputs": [
    {
     "data": {
      "text/plain": [
       "True"
      ]
     },
     "execution_count": 28,
     "metadata": {},
     "output_type": "execute_result"
    }
   ],
   "source": [
    "a.endswith('n')"
   ]
  },
  {
   "cell_type": "code",
   "execution_count": 29,
   "id": "d4d67562",
   "metadata": {},
   "outputs": [
    {
     "data": {
      "text/plain": [
       "True"
      ]
     },
     "execution_count": 29,
     "metadata": {},
     "output_type": "execute_result"
    }
   ],
   "source": [
    "a.isalnum() # checks whether the string contains only numeric or alphabets"
   ]
  },
  {
   "cell_type": "code",
   "execution_count": 30,
   "id": "f273f09f",
   "metadata": {},
   "outputs": [],
   "source": [
    "text = 'Python is programming language'"
   ]
  },
  {
   "cell_type": "code",
   "execution_count": 31,
   "id": "050a4d66",
   "metadata": {},
   "outputs": [
    {
     "data": {
      "text/plain": [
       "['Python', 'is', 'programming', 'language']"
      ]
     },
     "execution_count": 31,
     "metadata": {},
     "output_type": "execute_result"
    }
   ],
   "source": [
    "text.split()"
   ]
  },
  {
   "cell_type": "code",
   "execution_count": 32,
   "id": "adc03c2f",
   "metadata": {},
   "outputs": [],
   "source": [
    "fname= 'Sachin'\n",
    "lname='Tendulkar'"
   ]
  },
  {
   "cell_type": "code",
   "execution_count": 33,
   "id": "dac3c22b",
   "metadata": {},
   "outputs": [
    {
     "data": {
      "text/plain": [
       "('Sachin', 'Tendulkar')"
      ]
     },
     "execution_count": 33,
     "metadata": {},
     "output_type": "execute_result"
    }
   ],
   "source": [
    "fname,lname"
   ]
  },
  {
   "cell_type": "code",
   "execution_count": 34,
   "id": "4f012c18",
   "metadata": {},
   "outputs": [
    {
     "data": {
      "text/plain": [
       "'Sachin Tendulkar'"
      ]
     },
     "execution_count": 34,
     "metadata": {},
     "output_type": "execute_result"
    }
   ],
   "source": [
    "fname+' '+lname"
   ]
  },
  {
   "cell_type": "code",
   "execution_count": 35,
   "id": "78781637",
   "metadata": {},
   "outputs": [
    {
     "name": "stdout",
     "output_type": "stream",
     "text": [
      "Firts name : Sachin \n",
      "Last name : Tendulkar\n"
     ]
    }
   ],
   "source": [
    "print('Firts name :', fname , '\\n' 'Last name :', lname )"
   ]
  },
  {
   "cell_type": "code",
   "execution_count": 36,
   "id": "0f3822cd",
   "metadata": {},
   "outputs": [
    {
     "name": "stdout",
     "output_type": "stream",
     "text": [
      "Firts name : Sachin \tLast name : Tendulkar\n"
     ]
    }
   ],
   "source": [
    "print('Firts name :', fname , '\\t' 'Last name :', lname )"
   ]
  },
  {
   "cell_type": "code",
   "execution_count": 37,
   "id": "8c265ee7",
   "metadata": {},
   "outputs": [],
   "source": [
    "i = 'I Love Python'"
   ]
  },
  {
   "cell_type": "code",
   "execution_count": 38,
   "id": "619e51ba",
   "metadata": {},
   "outputs": [
    {
     "data": {
      "text/plain": [
       "'ove Pyt'"
      ]
     },
     "execution_count": 38,
     "metadata": {},
     "output_type": "execute_result"
    }
   ],
   "source": [
    "i[ 3:10]"
   ]
  },
  {
   "cell_type": "code",
   "execution_count": 39,
   "id": "aff3be4a",
   "metadata": {},
   "outputs": [
    {
     "name": "stdout",
     "output_type": "stream",
     "text": [
      "My name is Rahul and my last name is Gandhi\n"
     ]
    }
   ],
   "source": [
    "fname= 'Rahul'\n",
    "lname='Gandhi'\n",
    "\n",
    "print('My name is {} and my last name is {}'.format(fname ,lname) )\n"
   ]
  },
  {
   "cell_type": "code",
   "execution_count": 40,
   "id": "3d504fd3",
   "metadata": {},
   "outputs": [
    {
     "name": "stdout",
     "output_type": "stream",
     "text": [
      "My first name  is Rahul My last name is Gandhi\n"
     ]
    }
   ],
   "source": [
    "print('My first name  is'+ ' ' + fname + ' '+ 'My last name is ' + lname)"
   ]
  },
  {
   "cell_type": "code",
   "execution_count": 41,
   "id": "7fcf52fd",
   "metadata": {},
   "outputs": [
    {
     "name": "stdout",
     "output_type": "stream",
     "text": [
      "My first name is Rohith\\\n"
     ]
    }
   ],
   "source": [
    "fname=input('My first name is ')"
   ]
  },
  {
   "cell_type": "code",
   "execution_count": 42,
   "id": "472cb26a",
   "metadata": {},
   "outputs": [
    {
     "name": "stdout",
     "output_type": "stream",
     "text": [
      "Enter the number :99\n"
     ]
    }
   ],
   "source": [
    "get_num=int(input('Enter the number :'))"
   ]
  },
  {
   "cell_type": "markdown",
   "id": "8c879c61",
   "metadata": {},
   "source": [
    "#### Functions and Loops\n",
    "\n",
    "We have 3 different functions in python.\n",
    "\n",
    "* 1. Predefined functions/ Built-in function\n",
    "    - when we install anaconda navigator, few methods will get automaticaly installed.\n",
    "* 2. User-defined functions\n",
    "    - a customized function based on user preference. set of instructions\n",
    "* 3. Anonymous function \n",
    "    - is a nameless function used to perform only one operation at once."
   ]
  },
  {
   "cell_type": "code",
   "execution_count": 43,
   "id": "945e813a",
   "metadata": {},
   "outputs": [],
   "source": [
    "def add_num (num1,num2):\n",
    "    print(num1)\n",
    "    print(num2)\n",
    "    return num1+num2"
   ]
  },
  {
   "cell_type": "code",
   "execution_count": 44,
   "id": "ed5ee6b0",
   "metadata": {},
   "outputs": [
    {
     "name": "stdout",
     "output_type": "stream",
     "text": [
      "19\n",
      "10\n"
     ]
    },
    {
     "data": {
      "text/plain": [
       "29"
      ]
     },
     "execution_count": 44,
     "metadata": {},
     "output_type": "execute_result"
    }
   ],
   "source": [
    "add_num(19,10)"
   ]
  },
  {
   "cell_type": "code",
   "execution_count": 45,
   "id": "22bb171a",
   "metadata": {},
   "outputs": [],
   "source": [
    "def get_details(num1,num2,name): # Arguments\n",
    "    print(num1)\n",
    "    print(num2)\n",
    "    print(name)\n",
    "    return len(name)"
   ]
  },
  {
   "cell_type": "code",
   "execution_count": 46,
   "id": "a1a869bf",
   "metadata": {},
   "outputs": [
    {
     "name": "stdout",
     "output_type": "stream",
     "text": [
      "10\n",
      "20\n",
      "Triveni\n"
     ]
    },
    {
     "data": {
      "text/plain": [
       "7"
      ]
     },
     "execution_count": 46,
     "metadata": {},
     "output_type": "execute_result"
    }
   ],
   "source": [
    "get_details(10,20,'Triveni')"
   ]
  },
  {
   "cell_type": "code",
   "execution_count": 47,
   "id": "2f27a953",
   "metadata": {},
   "outputs": [],
   "source": [
    "# Default Parameter"
   ]
  },
  {
   "cell_type": "code",
   "execution_count": 48,
   "id": "11726f41",
   "metadata": {},
   "outputs": [],
   "source": [
    "def get_emp_details(id_no,e_name,age,company= 'IBM'):\n",
    "    print('ID Number :', id_no)\n",
    "    print('Employee_Name :',e_name)\n",
    "    print('Age :',age)\n",
    "    print('Company :',company)\n",
    "    "
   ]
  },
  {
   "cell_type": "code",
   "execution_count": 49,
   "id": "215c63cc",
   "metadata": {},
   "outputs": [
    {
     "name": "stdout",
     "output_type": "stream",
     "text": [
      "ID Number : 1112\n",
      "Employee_Name : Umesh\n",
      "Age : 22\n",
      "Company : IBM\n"
     ]
    }
   ],
   "source": [
    "get_emp_details(1112,'Umesh',22)"
   ]
  },
  {
   "cell_type": "code",
   "execution_count": 50,
   "id": "a766af77",
   "metadata": {},
   "outputs": [
    {
     "name": "stdout",
     "output_type": "stream",
     "text": [
      "ID Number : 3\n",
      "Employee_Name : Amrapali\n",
      "Age : 28\n",
      "Company : Google\n"
     ]
    }
   ],
   "source": [
    "get_emp_details(3,'Amrapali',28,'Google')"
   ]
  },
  {
   "cell_type": "code",
   "execution_count": 51,
   "id": "43b1b127",
   "metadata": {},
   "outputs": [],
   "source": [
    "def get_emp_details(id_no,e_name,age,*company):\n",
    "    print('ID Number :', id_no)\n",
    "    print('Employee_Name :',e_name)\n",
    "    print('Age :',age)\n",
    "    print('Company :',company)"
   ]
  },
  {
   "cell_type": "code",
   "execution_count": 52,
   "id": "4ff0d46a",
   "metadata": {},
   "outputs": [
    {
     "name": "stdout",
     "output_type": "stream",
     "text": [
      "ID Number : 3\n",
      "Employee_Name : Amrapali\n",
      "Age : 28\n",
      "Company : ('Google', 'Microsoft')\n"
     ]
    }
   ],
   "source": [
    "get_emp_details(3,'Amrapali',28,'Google','Microsoft')"
   ]
  },
  {
   "cell_type": "code",
   "execution_count": 53,
   "id": "49a04964",
   "metadata": {},
   "outputs": [],
   "source": [
    "def get_emp_details(id_no,e_name,age,**company):\n",
    "    print('ID Number :', id_no)\n",
    "    print('Employee_Name :',e_name)\n",
    "    print('Age :',age)\n",
    "    print('Company :',company)"
   ]
  },
  {
   "cell_type": "code",
   "execution_count": 54,
   "id": "f2552207",
   "metadata": {},
   "outputs": [
    {
     "name": "stdout",
     "output_type": "stream",
     "text": [
      "ID Number : 3\n",
      "Employee_Name : Amrapali\n",
      "Age : 28\n",
      "Company : {'company1': 'Google', 'company2': 'Microsoft'}\n"
     ]
    }
   ],
   "source": [
    "get_emp_details(3,'Amrapali',28,company1='Google',company2='Microsoft') #Keyword Arguments"
   ]
  },
  {
   "cell_type": "code",
   "execution_count": 55,
   "id": "0fbaf025",
   "metadata": {},
   "outputs": [],
   "source": [
    " # Variable length and Keyword Argumen"
   ]
  },
  {
   "cell_type": "code",
   "execution_count": 56,
   "id": "fd3a1611",
   "metadata": {},
   "outputs": [],
   "source": [
    "def get_emp_details(id_no,age,*e_name,**company):\n",
    "    print('ID Number :', id_no)\n",
    "    print('Employee_Name :',e_name)\n",
    "    print('Age :',age)\n",
    "    print('Company :',company)"
   ]
  },
  {
   "cell_type": "code",
   "execution_count": 57,
   "id": "183497aa",
   "metadata": {},
   "outputs": [
    {
     "name": "stdout",
     "output_type": "stream",
     "text": [
      "ID Number : 3\n",
      "Employee_Name : ('Amrapali', 'John')\n",
      "Age : 22\n",
      "Company : {'company1': 'Google', 'company2': 'Microsoft'}\n"
     ]
    }
   ],
   "source": [
    "get_emp_details(3,22,'Amrapali','John',company1='Google',company2='Microsoft')"
   ]
  },
  {
   "cell_type": "code",
   "execution_count": null,
   "id": "e0d21bdd",
   "metadata": {},
   "outputs": [],
   "source": []
  }
 ],
 "metadata": {
  "kernelspec": {
   "display_name": "Python 3",
   "language": "python",
   "name": "python3"
  },
  "language_info": {
   "codemirror_mode": {
    "name": "ipython",
    "version": 3
   },
   "file_extension": ".py",
   "mimetype": "text/x-python",
   "name": "python",
   "nbconvert_exporter": "python",
   "pygments_lexer": "ipython3",
   "version": "3.8.8"
  }
 },
 "nbformat": 4,
 "nbformat_minor": 5
}
