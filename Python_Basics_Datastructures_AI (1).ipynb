{
 "cells": [
  {
   "cell_type": "code",
   "execution_count": 1,
   "id": "f6abd9a1",
   "metadata": {},
   "outputs": [
    {
     "name": "stdout",
     "output_type": "stream",
     "text": [
      "My first program\n"
     ]
    }
   ],
   "source": [
    "print(\"My first program\")"
   ]
  },
  {
   "cell_type": "code",
   "execution_count": 2,
   "id": "8416df5b",
   "metadata": {},
   "outputs": [
    {
     "name": "stdout",
     "output_type": "stream",
     "text": [
      "My first program\n"
     ]
    }
   ],
   "source": [
    "print('My first program')"
   ]
  },
  {
   "cell_type": "code",
   "execution_count": 3,
   "id": "faf871ee",
   "metadata": {},
   "outputs": [
    {
     "name": "stdout",
     "output_type": "stream",
     "text": [
      "My first program\n"
     ]
    }
   ],
   "source": [
    "print(\"\"\"My first program\"\"\")"
   ]
  },
  {
   "cell_type": "code",
   "execution_count": 4,
   "id": "446fbb4a",
   "metadata": {},
   "outputs": [],
   "source": [
    "# Create Variable;"
   ]
  },
  {
   "cell_type": "code",
   "execution_count": 5,
   "id": "55e6bdc1",
   "metadata": {},
   "outputs": [],
   "source": [
    "data='AI is future'"
   ]
  },
  {
   "cell_type": "code",
   "execution_count": 6,
   "id": "487cbe4b",
   "metadata": {},
   "outputs": [
    {
     "name": "stdout",
     "output_type": "stream",
     "text": [
      "AI is future\n"
     ]
    }
   ],
   "source": [
    "print(data)"
   ]
  },
  {
   "cell_type": "code",
   "execution_count": 7,
   "id": "0f56a4a8",
   "metadata": {},
   "outputs": [],
   "source": [
    "data1=[12,11,13]"
   ]
  },
  {
   "cell_type": "code",
   "execution_count": 8,
   "id": "1656f2f6",
   "metadata": {},
   "outputs": [
    {
     "name": "stdout",
     "output_type": "stream",
     "text": [
      "[12, 11, 13]\n"
     ]
    }
   ],
   "source": [
    "print(data1)"
   ]
  },
  {
   "cell_type": "code",
   "execution_count": 9,
   "id": "a6dca066",
   "metadata": {},
   "outputs": [],
   "source": [
    "help=[1,2,3]"
   ]
  },
  {
   "cell_type": "code",
   "execution_count": 10,
   "id": "e5437c2a",
   "metadata": {},
   "outputs": [
    {
     "name": "stdout",
     "output_type": "stream",
     "text": [
      "[1, 2, 3]\n"
     ]
    }
   ],
   "source": [
    "print(help)"
   ]
  },
  {
   "cell_type": "code",
   "execution_count": 11,
   "id": "7b46f4e3",
   "metadata": {},
   "outputs": [],
   "source": [
    "#String"
   ]
  },
  {
   "cell_type": "code",
   "execution_count": 12,
   "id": "39cb202f",
   "metadata": {},
   "outputs": [],
   "source": [
    "demo=\"My first program\""
   ]
  },
  {
   "cell_type": "code",
   "execution_count": 13,
   "id": "ba23327d",
   "metadata": {},
   "outputs": [
    {
     "name": "stdout",
     "output_type": "stream",
     "text": [
      "My first program\n"
     ]
    }
   ],
   "source": [
    "print(demo)"
   ]
  },
  {
   "cell_type": "code",
   "execution_count": 14,
   "id": "b4771e01",
   "metadata": {},
   "outputs": [],
   "source": [
    "demo1=12"
   ]
  },
  {
   "cell_type": "code",
   "execution_count": 15,
   "id": "3eebc2f6",
   "metadata": {},
   "outputs": [
    {
     "name": "stdout",
     "output_type": "stream",
     "text": [
      "12\n"
     ]
    }
   ],
   "source": [
    "print(demo1)"
   ]
  },
  {
   "cell_type": "code",
   "execution_count": 16,
   "id": "ac890c68",
   "metadata": {},
   "outputs": [
    {
     "data": {
      "text/plain": [
       "str"
      ]
     },
     "execution_count": 16,
     "metadata": {},
     "output_type": "execute_result"
    }
   ],
   "source": [
    "type(demo)"
   ]
  },
  {
   "cell_type": "code",
   "execution_count": 17,
   "id": "3c223065",
   "metadata": {},
   "outputs": [
    {
     "data": {
      "text/plain": [
       "int"
      ]
     },
     "execution_count": 17,
     "metadata": {},
     "output_type": "execute_result"
    }
   ],
   "source": [
    "type(demo1)"
   ]
  },
  {
   "cell_type": "code",
   "execution_count": 18,
   "id": "b934879a",
   "metadata": {},
   "outputs": [],
   "source": [
    "demo2=12.22"
   ]
  },
  {
   "cell_type": "code",
   "execution_count": 19,
   "id": "f8021b93",
   "metadata": {},
   "outputs": [
    {
     "name": "stdout",
     "output_type": "stream",
     "text": [
      "12.22\n"
     ]
    }
   ],
   "source": [
    "print(demo2)"
   ]
  },
  {
   "cell_type": "code",
   "execution_count": 20,
   "id": "ff9ec994",
   "metadata": {},
   "outputs": [
    {
     "data": {
      "text/plain": [
       "float"
      ]
     },
     "execution_count": 20,
     "metadata": {},
     "output_type": "execute_result"
    }
   ],
   "source": [
    "type(demo2)"
   ]
  },
  {
   "cell_type": "code",
   "execution_count": 21,
   "id": "56808125",
   "metadata": {},
   "outputs": [],
   "source": [
    "# Concatinating Indexing and Slicing"
   ]
  },
  {
   "cell_type": "code",
   "execution_count": 22,
   "id": "4c147d75",
   "metadata": {},
   "outputs": [
    {
     "name": "stdout",
     "output_type": "stream",
     "text": [
      "Rohith Neelagiriyappa\n"
     ]
    }
   ],
   "source": [
    "fname=\"Rohith\"\n",
    "lname=\"Neelagiriyappa\"\n",
    "\n",
    "print(fname+\" \"+lname)"
   ]
  },
  {
   "cell_type": "code",
   "execution_count": 23,
   "id": "056e9fb5",
   "metadata": {},
   "outputs": [],
   "source": [
    "z=fname+\" \"+lname"
   ]
  },
  {
   "cell_type": "code",
   "execution_count": 24,
   "id": "3c7bcf44",
   "metadata": {},
   "outputs": [
    {
     "name": "stdout",
     "output_type": "stream",
     "text": [
      "Rohith Neelagiriyappa\n"
     ]
    }
   ],
   "source": [
    "print(z)"
   ]
  },
  {
   "cell_type": "code",
   "execution_count": 25,
   "id": "137e4cfd",
   "metadata": {},
   "outputs": [
    {
     "data": {
      "text/plain": [
       "21"
      ]
     },
     "execution_count": 25,
     "metadata": {},
     "output_type": "execute_result"
    }
   ],
   "source": [
    "len(z)"
   ]
  },
  {
   "cell_type": "code",
   "execution_count": 26,
   "id": "40dd0308",
   "metadata": {},
   "outputs": [
    {
     "data": {
      "text/plain": [
       "'ohith'"
      ]
     },
     "execution_count": 26,
     "metadata": {},
     "output_type": "execute_result"
    }
   ],
   "source": [
    "z[1:6]"
   ]
  },
  {
   "cell_type": "code",
   "execution_count": 27,
   "id": "6055a63c",
   "metadata": {},
   "outputs": [],
   "source": [
    "## Manipulate Strings with Methods\n",
    "#Methods and Functions - both are same.\n",
    "#Methods are nothing but when something is ended with (), we call it as methods/functions."
   ]
  },
  {
   "cell_type": "code",
   "execution_count": 28,
   "id": "4d3532fa",
   "metadata": {},
   "outputs": [],
   "source": [
    "a=\"Rohith\"\n",
    "b=\"Python\"\n",
    "c=\"Mathematics\"\n",
    "d=\"Artificial Intelligence\""
   ]
  },
  {
   "cell_type": "code",
   "execution_count": 29,
   "id": "a12790e9",
   "metadata": {},
   "outputs": [
    {
     "name": "stdout",
     "output_type": "stream",
     "text": [
      "Rohith\n",
      "Python\n",
      "Mathematics\n",
      "Artificial Intelligence\n"
     ]
    }
   ],
   "source": [
    "print(a)\n",
    "print(b)\n",
    "print(c)\n",
    "print(d)"
   ]
  },
  {
   "cell_type": "code",
   "execution_count": 30,
   "id": "9ef98104",
   "metadata": {},
   "outputs": [
    {
     "name": "stdout",
     "output_type": "stream",
     "text": [
      "ROHITH\n",
      "PYTHON\n",
      "MATHEMATICS\n",
      "ARTIFICIAL INTELLIGENCE\n"
     ]
    }
   ],
   "source": [
    "print(a.upper())\n",
    "print(b.upper())\n",
    "print(c.upper())\n",
    "print(d.upper())"
   ]
  },
  {
   "cell_type": "code",
   "execution_count": 31,
   "id": "0aa3a62e",
   "metadata": {},
   "outputs": [
    {
     "name": "stdout",
     "output_type": "stream",
     "text": [
      "rohith\n",
      "python\n",
      "mathematics\n",
      "artificial intelligence\n"
     ]
    }
   ],
   "source": [
    "print(a.lower())\n",
    "print(b.lower())\n",
    "print(c.lower())\n",
    "print(d.lower())"
   ]
  },
  {
   "cell_type": "code",
   "execution_count": 32,
   "id": "260b7f1f",
   "metadata": {},
   "outputs": [],
   "source": [
    "w=\"Jagan     \"\n",
    "x=\"     Rohith\"\n",
    "y=\"     Bangalore\"\n",
    "z=\"Yaseen     \""
   ]
  },
  {
   "cell_type": "code",
   "execution_count": 33,
   "id": "0d2ae6a9",
   "metadata": {},
   "outputs": [
    {
     "name": "stdout",
     "output_type": "stream",
     "text": [
      "Jagan\n",
      "Rohith\n",
      "Bangalore\n",
      "Yaseen\n"
     ]
    }
   ],
   "source": [
    "print(w.strip())\n",
    "print(x.lstrip())\n",
    "print(y.lstrip())\n",
    "print(z.rstrip())"
   ]
  },
  {
   "cell_type": "code",
   "execution_count": 34,
   "id": "19171ce8",
   "metadata": {},
   "outputs": [
    {
     "name": "stdout",
     "output_type": "stream",
     "text": [
      "True\n"
     ]
    }
   ],
   "source": [
    "print(z.startswith(\"Y\"))"
   ]
  },
  {
   "cell_type": "code",
   "execution_count": 35,
   "id": "4a387bf4",
   "metadata": {},
   "outputs": [],
   "source": [
    "## Interact with user Input"
   ]
  },
  {
   "cell_type": "code",
   "execution_count": 36,
   "id": "fd1a0515",
   "metadata": {},
   "outputs": [
    {
     "name": "stdout",
     "output_type": "stream",
     "text": [
      "Enter your name: Rohith\n",
      "rohith\n"
     ]
    }
   ],
   "source": [
    "get_input=input(\"Enter your name: \")\n",
    "print(get_input.lower())"
   ]
  },
  {
   "cell_type": "code",
   "execution_count": 37,
   "id": "360b7871",
   "metadata": {},
   "outputs": [
    {
     "name": "stdout",
     "output_type": "stream",
     "text": [
      "Enter Your name : Rohith\n",
      "6\n"
     ]
    }
   ],
   "source": [
    "get_input=input(\"Enter Your name : \")\n",
    "print(len(get_input))"
   ]
  },
  {
   "cell_type": "code",
   "execution_count": 38,
   "id": "8f0844d7",
   "metadata": {},
   "outputs": [],
   "source": [
    "# Get and print the first letter of your name"
   ]
  },
  {
   "cell_type": "code",
   "execution_count": 41,
   "id": "3c465ce3",
   "metadata": {},
   "outputs": [
    {
     "name": "stdout",
     "output_type": "stream",
     "text": [
      "Enter your name : Rohith\n",
      "The first letter of my name is : R\n"
     ]
    }
   ],
   "source": [
    "name=input(\"Enter your name : \")\n",
    "print(\"The first letter of my name is :\" , name[0])"
   ]
  },
  {
   "cell_type": "code",
   "execution_count": 42,
   "id": "fadcaef5",
   "metadata": {},
   "outputs": [],
   "source": [
    "# Working with strings and Numbers"
   ]
  },
  {
   "cell_type": "code",
   "execution_count": 44,
   "id": "8d49f0d2",
   "metadata": {},
   "outputs": [
    {
     "name": "stdout",
     "output_type": "stream",
     "text": [
      "Enter the number : 2\n",
      "Enter the second number :4\n",
      "Product of two numbers is : 8.0\n"
     ]
    }
   ],
   "source": [
    "a=input(\"Enter the number : \")\n",
    "b=input(\"Enter the second number :\")\n",
    "print(\"Product of two numbers is :\" ,float(a)* float(b))\n"
   ]
  },
  {
   "cell_type": "code",
   "execution_count": 45,
   "id": "1f7db403",
   "metadata": {},
   "outputs": [],
   "source": [
    "#Streamline your Print statements"
   ]
  },
  {
   "cell_type": "code",
   "execution_count": 51,
   "id": "bda4b02d",
   "metadata": {},
   "outputs": [
    {
     "name": "stdout",
     "output_type": "stream",
     "text": [
      "Rohith is expert in Artificial Intelligence with age 25\n"
     ]
    }
   ],
   "source": [
    "expert =\"Rohith\"\n",
    "age=25\n",
    "print('{} is expert in Artificial Intelligence with age {}'.format (expert , age ))"
   ]
  },
  {
   "cell_type": "code",
   "execution_count": 52,
   "id": "7e98cda2",
   "metadata": {},
   "outputs": [
    {
     "name": "stdout",
     "output_type": "stream",
     "text": [
      "Virak Kohli is the captain of India Cricket team and Rahane is vicecaptain\n"
     ]
    }
   ],
   "source": [
    "captain =\"Virak Kohli\"\n",
    "vice_captain=\"Rahane\"\n",
    "print(\"{} is the captain of India Cricket team and {} is vicecaptain\".format(captain,vice_captain))"
   ]
  },
  {
   "cell_type": "code",
   "execution_count": 53,
   "id": "ba16408f",
   "metadata": {},
   "outputs": [],
   "source": [
    "#Find a string in a string"
   ]
  },
  {
   "cell_type": "code",
   "execution_count": 54,
   "id": "e76e4324",
   "metadata": {},
   "outputs": [],
   "source": [
    "news=\" Captain cool appriciated the overall performance of the team under virat kohli's captaincy\""
   ]
  },
  {
   "cell_type": "code",
   "execution_count": 55,
   "id": "d403603a",
   "metadata": {},
   "outputs": [
    {
     "name": "stdout",
     "output_type": "stream",
     "text": [
      "4\n"
     ]
    }
   ],
   "source": [
    "print(news.find('t'))"
   ]
  },
  {
   "cell_type": "code",
   "execution_count": 56,
   "id": "0be6aa3e",
   "metadata": {},
   "outputs": [
    {
     "name": "stdout",
     "output_type": "stream",
     "text": [
      "9\n"
     ]
    }
   ],
   "source": [
    "print(news.find('cool'))"
   ]
  },
  {
   "cell_type": "code",
   "execution_count": 57,
   "id": "42c00c21",
   "metadata": {},
   "outputs": [
    {
     "data": {
      "text/plain": [
       "\" Captain Dhoni appriciated the overall performance of the team under virat kohli's captaincy\""
      ]
     },
     "execution_count": 57,
     "metadata": {},
     "output_type": "execute_result"
    }
   ],
   "source": [
    "news.replace(\"cool\",\"Dhoni\")"
   ]
  },
  {
   "cell_type": "code",
   "execution_count": 59,
   "id": "d7187947",
   "metadata": {},
   "outputs": [
    {
     "data": {
      "text/plain": [
       "' He is  good boy'"
      ]
     },
     "execution_count": 59,
     "metadata": {},
     "output_type": "execute_result"
    }
   ],
   "source": [
    "sentiment=\" He is 100% good boy\"\n",
    "sentiment.replace(\"100%\",\"\")"
   ]
  },
  {
   "cell_type": "code",
   "execution_count": 60,
   "id": "13bba6a0",
   "metadata": {},
   "outputs": [],
   "source": [
    "# Numbers in Python"
   ]
  },
  {
   "cell_type": "code",
   "execution_count": 61,
   "id": "820f9bfb",
   "metadata": {},
   "outputs": [],
   "source": [
    "#Integers and Float point Numbers"
   ]
  },
  {
   "cell_type": "code",
   "execution_count": 62,
   "id": "0c738cd4",
   "metadata": {},
   "outputs": [
    {
     "data": {
      "text/plain": [
       "float"
      ]
     },
     "execution_count": 62,
     "metadata": {},
     "output_type": "execute_result"
    }
   ],
   "source": [
    "type(35e10)"
   ]
  },
  {
   "cell_type": "code",
   "execution_count": 63,
   "id": "0075b0a9",
   "metadata": {},
   "outputs": [
    {
     "data": {
      "text/plain": [
       "int"
      ]
     },
     "execution_count": 63,
     "metadata": {},
     "output_type": "execute_result"
    }
   ],
   "source": [
    "type(35)"
   ]
  },
  {
   "cell_type": "code",
   "execution_count": 64,
   "id": "9164eadf",
   "metadata": {},
   "outputs": [
    {
     "data": {
      "text/plain": [
       "str"
      ]
     },
     "execution_count": 64,
     "metadata": {},
     "output_type": "execute_result"
    }
   ],
   "source": [
    "type(\"35\")"
   ]
  },
  {
   "cell_type": "code",
   "execution_count": 65,
   "id": "6a47cd26",
   "metadata": {},
   "outputs": [],
   "source": [
    "#Math Functions and Number Methods"
   ]
  },
  {
   "cell_type": "code",
   "execution_count": 72,
   "id": "c64ed6d9",
   "metadata": {},
   "outputs": [
    {
     "name": "stdout",
     "output_type": "stream",
     "text": [
      "Enter the number: 6.6\n",
      "6.6\n"
     ]
    }
   ],
   "source": [
    "get_number=input(\"Enter the number: \")\n",
    "print(abs(float(get_number)))  ## abs can be applied if the input is integer or float"
   ]
  },
  {
   "cell_type": "code",
   "execution_count": 73,
   "id": "695c3f1b",
   "metadata": {},
   "outputs": [],
   "source": [
    "# Write your own function:\n",
    "def getingradients():\n",
    "    print(\"Brocc0li\")\n",
    "    print(\"Eggs\")"
   ]
  },
  {
   "cell_type": "code",
   "execution_count": 74,
   "id": "9ca18c35",
   "metadata": {},
   "outputs": [
    {
     "name": "stdout",
     "output_type": "stream",
     "text": [
      "Brocc0li\n",
      "Eggs\n"
     ]
    }
   ],
   "source": [
    "getingradients()"
   ]
  },
  {
   "cell_type": "code",
   "execution_count": 75,
   "id": "252b9096",
   "metadata": {},
   "outputs": [],
   "source": [
    "#Positional Arguments"
   ]
  },
  {
   "cell_type": "code",
   "execution_count": 76,
   "id": "fbec0896",
   "metadata": {},
   "outputs": [],
   "source": [
    "def addition(number1,number2):\n",
    "    print(number1+number2)"
   ]
  },
  {
   "cell_type": "code",
   "execution_count": 77,
   "id": "cd1cd33f",
   "metadata": {},
   "outputs": [
    {
     "name": "stdout",
     "output_type": "stream",
     "text": [
      "4\n"
     ]
    }
   ],
   "source": [
    "addition(2,2)"
   ]
  },
  {
   "cell_type": "code",
   "execution_count": 78,
   "id": "d22f8892",
   "metadata": {},
   "outputs": [],
   "source": [
    "#Get 3 arguments with different datatypes and return a statement."
   ]
  },
  {
   "cell_type": "code",
   "execution_count": 83,
   "id": "e5740a3b",
   "metadata": {},
   "outputs": [],
   "source": [
    "def three_fun(a,b,c):\n",
    "    return \"My name is {} ,Im from {} and my age is {}\".format(a,b,c)"
   ]
  },
  {
   "cell_type": "code",
   "execution_count": 84,
   "id": "2fbc58dd",
   "metadata": {},
   "outputs": [
    {
     "data": {
      "text/plain": [
       "'My name is Rohith ,Im from Bangalore and my age is 31'"
      ]
     },
     "execution_count": 84,
     "metadata": {},
     "output_type": "execute_result"
    }
   ],
   "source": [
    "three_fun('Rohith','Bangalore',31)"
   ]
  },
  {
   "cell_type": "code",
   "execution_count": 1,
   "id": "2798849e",
   "metadata": {},
   "outputs": [],
   "source": [
    "##Default Arguments"
   ]
  },
  {
   "cell_type": "code",
   "execution_count": 2,
   "id": "6a5bd00f",
   "metadata": {},
   "outputs": [],
   "source": [
    "def get_empdetails(name,age,company='Capgemini'):\n",
    "    print('Name :',name)\n",
    "    print('Age :', age)\n",
    "    print('Company :',company)"
   ]
  },
  {
   "cell_type": "code",
   "execution_count": 4,
   "id": "97fd3781",
   "metadata": {},
   "outputs": [
    {
     "name": "stdout",
     "output_type": "stream",
     "text": [
      "Name : Rohith\n",
      "Age : 31\n",
      "Company : Capgemini\n",
      "Name : Sham\n",
      "Age : 32\n",
      "Company : Capgemini\n",
      "Name : Shivu\n",
      "Age : 21\n",
      "Company : Capgemini\n"
     ]
    }
   ],
   "source": [
    "get_empdetails('Rohith',31)\n",
    "get_empdetails('Sham',32)\n",
    "get_empdetails('Shivu',21)"
   ]
  },
  {
   "cell_type": "code",
   "execution_count": 5,
   "id": "90b0729f",
   "metadata": {},
   "outputs": [],
   "source": [
    "#Variable-length Arguments"
   ]
  },
  {
   "cell_type": "code",
   "execution_count": 6,
   "id": "e31456f0",
   "metadata": {},
   "outputs": [],
   "source": [
    "def get_emp_details(name,age,*Company):\n",
    "    print(\"Name :\",name)\n",
    "    print(\"Age :\",age)\n",
    "    print(\"Company :\",Company)\n",
    "    "
   ]
  },
  {
   "cell_type": "code",
   "execution_count": 7,
   "id": "ae33b348",
   "metadata": {},
   "outputs": [
    {
     "name": "stdout",
     "output_type": "stream",
     "text": [
      "Name : Rohith\n",
      "Age : 31\n",
      "Company : ('Quadgen Wireless Solutions', 'UST Global (Nokia)', 'Innodatatics')\n"
     ]
    }
   ],
   "source": [
    "get_emp_details('Rohith',31,'Quadgen Wireless Solutions','UST Global (Nokia)','Innodatatics')"
   ]
  },
  {
   "cell_type": "code",
   "execution_count": 9,
   "id": "26da980a",
   "metadata": {},
   "outputs": [],
   "source": [
    "def get_emp_details(name,age,**Company):\n",
    "    print(\"Name :\", name)\n",
    "    print(\"Age :\",age)\n",
    "    print(\"Company:\",Company)"
   ]
  },
  {
   "cell_type": "code",
   "execution_count": 10,
   "id": "54be0166",
   "metadata": {},
   "outputs": [
    {
     "name": "stdout",
     "output_type": "stream",
     "text": [
      "Name : Rohith\n",
      "Age : 31\n",
      "Company: {'Comp1': 'Quadgen', 'Comp2': 'UST Global', 'Comp3': 'Innodatatics'}\n"
     ]
    }
   ],
   "source": [
    "get_emp_details(\"Rohith\",31,Comp1='Quadgen',Comp2='UST Global',Comp3='Innodatatics')"
   ]
  },
  {
   "cell_type": "code",
   "execution_count": 11,
   "id": "7186d4a9",
   "metadata": {},
   "outputs": [],
   "source": [
    "# Run in Circle"
   ]
  },
  {
   "cell_type": "code",
   "execution_count": 12,
   "id": "5f0d2900",
   "metadata": {},
   "outputs": [
    {
     "name": "stdout",
     "output_type": "stream",
     "text": [
      "0\n",
      "1\n",
      "2\n",
      "3\n",
      "4\n",
      "5\n",
      "6\n",
      "7\n",
      "8\n",
      "9\n"
     ]
    }
   ],
   "source": [
    "for i in range(0,10):\n",
    "    print(i)"
   ]
  },
  {
   "cell_type": "code",
   "execution_count": 13,
   "id": "00aefd9a",
   "metadata": {},
   "outputs": [
    {
     "name": "stdout",
     "output_type": "stream",
     "text": [
      "1\n",
      "3\n",
      "5\n",
      "7\n",
      "9\n"
     ]
    }
   ],
   "source": [
    "for i in range(1,10,2):\n",
    "    print(i)"
   ]
  },
  {
   "cell_type": "code",
   "execution_count": 16,
   "id": "ba114f8a",
   "metadata": {},
   "outputs": [
    {
     "name": "stdout",
     "output_type": "stream",
     "text": [
      "True\n",
      "False\n",
      "False\n",
      "False\n",
      "True\n"
     ]
    }
   ],
   "source": [
    "##Compare values using arithmatic operations:\n",
    "print(1<=1)\n",
    "print(1!=1)\n",
    "print('suresh'==\"jagan\")\n",
    "print(123==\"123\")\n",
    "print('suresh'!='jagan')"
   ]
  },
  {
   "cell_type": "code",
   "execution_count": 17,
   "id": "c6f2da15",
   "metadata": {},
   "outputs": [
    {
     "name": "stdout",
     "output_type": "stream",
     "text": [
      "False\n"
     ]
    }
   ],
   "source": [
    "a=1\n",
    "b=2\n",
    "c=4\n",
    "print(a>2 and b<2)"
   ]
  },
  {
   "cell_type": "code",
   "execution_count": 18,
   "id": "17a541ea",
   "metadata": {},
   "outputs": [],
   "source": [
    "a=\"My name is Rohith\""
   ]
  },
  {
   "cell_type": "code",
   "execution_count": 19,
   "id": "905e1020",
   "metadata": {},
   "outputs": [
    {
     "data": {
      "text/plain": [
       "True"
      ]
     },
     "execution_count": 19,
     "metadata": {},
     "output_type": "execute_result"
    }
   ],
   "source": [
    "'name' in a"
   ]
  },
  {
   "cell_type": "code",
   "execution_count": 21,
   "id": "d14adf48",
   "metadata": {},
   "outputs": [],
   "source": [
    "#Control the flow of your program"
   ]
  },
  {
   "cell_type": "code",
   "execution_count": 22,
   "id": "0051c8e0",
   "metadata": {},
   "outputs": [],
   "source": [
    "# To find the number is prime or not:\n",
    "\n",
    "def prime_or_not(num):\n",
    "    for values in range(2,num):\n",
    "        if num%values==0:\n",
    "            return \"Number is not prime\"\n",
    "            break\n",
    "        else:\n",
    "            return \"Number is Prime\""
   ]
  },
  {
   "cell_type": "code",
   "execution_count": 23,
   "id": "57df2fb6",
   "metadata": {},
   "outputs": [
    {
     "data": {
      "text/plain": [
       "'Number is not prime'"
      ]
     },
     "execution_count": 23,
     "metadata": {},
     "output_type": "execute_result"
    }
   ],
   "source": [
    "prime_or_not(10)"
   ]
  },
  {
   "cell_type": "code",
   "execution_count": 24,
   "id": "3c7b23e9",
   "metadata": {},
   "outputs": [
    {
     "data": {
      "text/plain": [
       "'Number is Prime'"
      ]
     },
     "execution_count": 24,
     "metadata": {},
     "output_type": "execute_result"
    }
   ],
   "source": [
    "prime_or_not(3)"
   ]
  },
  {
   "cell_type": "code",
   "execution_count": 25,
   "id": "6b74980c",
   "metadata": {},
   "outputs": [],
   "source": [
    "#Perfect square or not:\n",
    "def perfect_square(num):\n",
    "    square=num**(1/2)\n",
    "    if square%1==0:\n",
    "        return True\n",
    "    else:\n",
    "        return False\n",
    "        "
   ]
  },
  {
   "cell_type": "code",
   "execution_count": 26,
   "id": "c87cfb6c",
   "metadata": {},
   "outputs": [
    {
     "data": {
      "text/plain": [
       "False"
      ]
     },
     "execution_count": 26,
     "metadata": {},
     "output_type": "execute_result"
    }
   ],
   "source": [
    "perfect_square(24)"
   ]
  },
  {
   "cell_type": "code",
   "execution_count": 27,
   "id": "283a53c9",
   "metadata": {},
   "outputs": [
    {
     "data": {
      "text/plain": [
       "True"
      ]
     },
     "execution_count": 27,
     "metadata": {},
     "output_type": "execute_result"
    }
   ],
   "source": [
    "perfect_square(25)"
   ]
  },
  {
   "cell_type": "code",
   "execution_count": 34,
   "id": "5bad1a0d",
   "metadata": {},
   "outputs": [],
   "source": [
    "##program to add numbers:\n",
    "\n",
    "def add(*args):\n",
    "    a=0\n",
    "    for values in args:\n",
    "        a+=values\n",
    "    return a"
   ]
  },
  {
   "cell_type": "code",
   "execution_count": 35,
   "id": "34f0cf4f",
   "metadata": {},
   "outputs": [
    {
     "data": {
      "text/plain": [
       "6"
      ]
     },
     "execution_count": 35,
     "metadata": {},
     "output_type": "execute_result"
    }
   ],
   "source": [
    "add(1,2,3)"
   ]
  },
  {
   "cell_type": "code",
   "execution_count": 36,
   "id": "6f72f19f",
   "metadata": {},
   "outputs": [],
   "source": [
    "#Multiply numbers:\n",
    "\n",
    "def mul(*args):\n",
    "    a=1\n",
    "    for values in args:\n",
    "        a*=values\n",
    "    return a"
   ]
  },
  {
   "cell_type": "code",
   "execution_count": 37,
   "id": "3618929c",
   "metadata": {},
   "outputs": [
    {
     "data": {
      "text/plain": [
       "6"
      ]
     },
     "execution_count": 37,
     "metadata": {},
     "output_type": "execute_result"
    }
   ],
   "source": [
    "mul(1,2,3)"
   ]
  },
  {
   "cell_type": "code",
   "execution_count": 38,
   "id": "a4375db6",
   "metadata": {},
   "outputs": [
    {
     "data": {
      "text/plain": [
       "120"
      ]
     },
     "execution_count": 38,
     "metadata": {},
     "output_type": "execute_result"
    }
   ],
   "source": [
    "mul(1,2,3,4,5)"
   ]
  },
  {
   "cell_type": "code",
   "execution_count": 39,
   "id": "09ca9191",
   "metadata": {},
   "outputs": [],
   "source": [
    "def fact(num):\n",
    "    if num==1:\n",
    "        return 1\n",
    "    return num*fact(num-1)"
   ]
  },
  {
   "cell_type": "code",
   "execution_count": 40,
   "id": "961db2d1",
   "metadata": {},
   "outputs": [
    {
     "data": {
      "text/plain": [
       "120"
      ]
     },
     "execution_count": 40,
     "metadata": {},
     "output_type": "execute_result"
    }
   ],
   "source": [
    "fact(5)"
   ]
  },
  {
   "cell_type": "code",
   "execution_count": 41,
   "id": "a63e61c1",
   "metadata": {},
   "outputs": [
    {
     "name": "stdout",
     "output_type": "stream",
     "text": [
      "Type SomethingMy name is Rohith\n",
      "Length is greater than 5\n"
     ]
    }
   ],
   "source": [
    "# Simple if else statement:\n",
    "\n",
    "user_input=input(\"Type Something\")\n",
    "\n",
    "if len(user_input)<5:\n",
    "    print(\"Length is less than 5 \")\n",
    "else:\n",
    "    print(\"Length is greater than 5\")"
   ]
  },
  {
   "cell_type": "code",
   "execution_count": 43,
   "id": "6c8878e1",
   "metadata": {},
   "outputs": [
    {
     "name": "stdout",
     "output_type": "stream",
     "text": [
      "Type SomethingRavan\n",
      "Length is exactly same at 5\n"
     ]
    }
   ],
   "source": [
    "user_input=input(\"Type Something\")\n",
    "\n",
    "if len(user_input)<5:\n",
    "    print(\"Length is less than 5 \")\n",
    "elif len(user_input)>5:\n",
    "    print(\"Length is greater than 5\")\n",
    "else:\n",
    "    print(\"Length is exactly same at 5\")"
   ]
  },
  {
   "cell_type": "code",
   "execution_count": 44,
   "id": "af4f692c",
   "metadata": {},
   "outputs": [
    {
     "name": "stdout",
     "output_type": "stream",
     "text": [
      "3\n",
      "6\n",
      "9\n",
      "12\n",
      "15\n",
      "18\n",
      "21\n",
      "24\n",
      "27\n",
      "30\n",
      "33\n",
      "36\n",
      "39\n",
      "42\n",
      "45\n",
      "48\n"
     ]
    }
   ],
   "source": [
    "for i in range(1,50):\n",
    "    if i%3==0:\n",
    "        print(i)"
   ]
  },
  {
   "cell_type": "code",
   "execution_count": 45,
   "id": "adaba1f7",
   "metadata": {},
   "outputs": [],
   "source": [
    "#List: \n",
    "#One dimensional,Heterogeneous,Mutable,allows duplicate vales,Slicable"
   ]
  },
  {
   "cell_type": "code",
   "execution_count": 46,
   "id": "6d33cc7d",
   "metadata": {},
   "outputs": [],
   "source": [
    "student_marks=[]"
   ]
  },
  {
   "cell_type": "code",
   "execution_count": 47,
   "id": "b5e3a174",
   "metadata": {},
   "outputs": [
    {
     "data": {
      "text/plain": [
       "list"
      ]
     },
     "execution_count": 47,
     "metadata": {},
     "output_type": "execute_result"
    }
   ],
   "source": [
    "type(student_marks)"
   ]
  },
  {
   "cell_type": "code",
   "execution_count": 48,
   "id": "17df24bf",
   "metadata": {},
   "outputs": [],
   "source": [
    "student_marks=[1,2,3,4,5]"
   ]
  },
  {
   "cell_type": "code",
   "execution_count": 49,
   "id": "d98128c1",
   "metadata": {},
   "outputs": [
    {
     "data": {
      "text/plain": [
       "list"
      ]
     },
     "execution_count": 49,
     "metadata": {},
     "output_type": "execute_result"
    }
   ],
   "source": [
    "type(student_marks)"
   ]
  },
  {
   "cell_type": "code",
   "execution_count": 50,
   "id": "54bcf8dd",
   "metadata": {},
   "outputs": [
    {
     "data": {
      "text/plain": [
       "5"
      ]
     },
     "execution_count": 50,
     "metadata": {},
     "output_type": "execute_result"
    }
   ],
   "source": [
    "len(student_marks)"
   ]
  },
  {
   "cell_type": "code",
   "execution_count": 51,
   "id": "45fa3de1",
   "metadata": {},
   "outputs": [
    {
     "data": {
      "text/plain": [
       "3"
      ]
     },
     "execution_count": 51,
     "metadata": {},
     "output_type": "execute_result"
    }
   ],
   "source": [
    "student_marks[2]"
   ]
  },
  {
   "cell_type": "code",
   "execution_count": 52,
   "id": "84749d69",
   "metadata": {},
   "outputs": [],
   "source": [
    "#List is indexable and slicable"
   ]
  },
  {
   "cell_type": "code",
   "execution_count": 53,
   "id": "a9aa7a2d",
   "metadata": {},
   "outputs": [],
   "source": [
    "indian_scores=[100,200,300,400,500]"
   ]
  },
  {
   "cell_type": "code",
   "execution_count": 54,
   "id": "421de756",
   "metadata": {},
   "outputs": [
    {
     "data": {
      "text/plain": [
       "[300, 400, 500]"
      ]
     },
     "execution_count": 54,
     "metadata": {},
     "output_type": "execute_result"
    }
   ],
   "source": [
    "indian_scores[2:]"
   ]
  },
  {
   "cell_type": "code",
   "execution_count": 55,
   "id": "7c4926a7",
   "metadata": {},
   "outputs": [
    {
     "data": {
      "text/plain": [
       "[400]"
      ]
     },
     "execution_count": 55,
     "metadata": {},
     "output_type": "execute_result"
    }
   ],
   "source": [
    "indian_scores[3:4]"
   ]
  },
  {
   "cell_type": "code",
   "execution_count": 58,
   "id": "82549796",
   "metadata": {},
   "outputs": [
    {
     "data": {
      "text/plain": [
       "[100, 200, 300, 400]"
      ]
     },
     "execution_count": 58,
     "metadata": {},
     "output_type": "execute_result"
    }
   ],
   "source": [
    "indian_scores[:-1]"
   ]
  },
  {
   "cell_type": "code",
   "execution_count": 57,
   "id": "1e8e3569",
   "metadata": {},
   "outputs": [
    {
     "data": {
      "text/plain": [
       "[500]"
      ]
     },
     "execution_count": 57,
     "metadata": {},
     "output_type": "execute_result"
    }
   ],
   "source": [
    "indian_scores[-1:]"
   ]
  },
  {
   "cell_type": "code",
   "execution_count": 59,
   "id": "63ce520e",
   "metadata": {},
   "outputs": [],
   "source": [
    "indian_scores[2]=432"
   ]
  },
  {
   "cell_type": "code",
   "execution_count": 61,
   "id": "a82e3a69",
   "metadata": {},
   "outputs": [
    {
     "data": {
      "text/plain": [
       "[100, 200, 432, 400, 500]"
      ]
     },
     "execution_count": 61,
     "metadata": {},
     "output_type": "execute_result"
    }
   ],
   "source": [
    "indian_scores"
   ]
  },
  {
   "cell_type": "code",
   "execution_count": 62,
   "id": "3b65885b",
   "metadata": {},
   "outputs": [],
   "source": [
    "name_id=[1,2,3,'Prerana']"
   ]
  },
  {
   "cell_type": "code",
   "execution_count": 63,
   "id": "2fdcbb4f",
   "metadata": {},
   "outputs": [],
   "source": [
    "name_id.append('Kiran')"
   ]
  },
  {
   "cell_type": "code",
   "execution_count": 64,
   "id": "3ef856d3",
   "metadata": {},
   "outputs": [
    {
     "data": {
      "text/plain": [
       "[1, 2, 3, 'Prerana', 'Kiran']"
      ]
     },
     "execution_count": 64,
     "metadata": {},
     "output_type": "execute_result"
    }
   ],
   "source": [
    "name_id"
   ]
  },
  {
   "cell_type": "code",
   "execution_count": 65,
   "id": "519c9f70",
   "metadata": {},
   "outputs": [],
   "source": [
    "name_id.append(\"Virat\")"
   ]
  },
  {
   "cell_type": "code",
   "execution_count": 66,
   "id": "781d016c",
   "metadata": {},
   "outputs": [
    {
     "data": {
      "text/plain": [
       "[1, 2, 3, 'Prerana', 'Kiran', 'Virat']"
      ]
     },
     "execution_count": 66,
     "metadata": {},
     "output_type": "execute_result"
    }
   ],
   "source": [
    "name_id"
   ]
  },
  {
   "cell_type": "code",
   "execution_count": 67,
   "id": "1e5b4249",
   "metadata": {},
   "outputs": [
    {
     "data": {
      "text/plain": [
       "6"
      ]
     },
     "execution_count": 67,
     "metadata": {},
     "output_type": "execute_result"
    }
   ],
   "source": [
    "len(name_id)"
   ]
  },
  {
   "cell_type": "code",
   "execution_count": 69,
   "id": "809a80c3",
   "metadata": {},
   "outputs": [
    {
     "ename": "TypeError",
     "evalue": "append() takes exactly one argument (2 given)",
     "output_type": "error",
     "traceback": [
      "\u001b[1;31m---------------------------------------------------------------------------\u001b[0m",
      "\u001b[1;31mTypeError\u001b[0m                                 Traceback (most recent call last)",
      "\u001b[1;32m<ipython-input-69-9841cc752910>\u001b[0m in \u001b[0;36m<module>\u001b[1;34m\u001b[0m\n\u001b[1;32m----> 1\u001b[1;33m \u001b[0mname_id\u001b[0m\u001b[1;33m.\u001b[0m\u001b[0mappend\u001b[0m\u001b[1;33m(\u001b[0m\u001b[1;34m'r'\u001b[0m\u001b[1;33m,\u001b[0m\u001b[1;34m'k'\u001b[0m\u001b[1;33m)\u001b[0m \u001b[1;31m# Note append takes only one argument\u001b[0m\u001b[1;33m\u001b[0m\u001b[1;33m\u001b[0m\u001b[0m\n\u001b[0m",
      "\u001b[1;31mTypeError\u001b[0m: append() takes exactly one argument (2 given)"
     ]
    }
   ],
   "source": [
    "name_id.append('r','k') # Note append takes only one argument"
   ]
  },
  {
   "cell_type": "code",
   "execution_count": 70,
   "id": "73d600cd",
   "metadata": {},
   "outputs": [],
   "source": [
    "name_id.extend(['Sneha','Ramya'])"
   ]
  },
  {
   "cell_type": "code",
   "execution_count": 71,
   "id": "401fa0c4",
   "metadata": {},
   "outputs": [
    {
     "data": {
      "text/plain": [
       "[1, 2, 3, 'Prerana', 'Kiran', 'Virat', 'Sneha', 'Ramya']"
      ]
     },
     "execution_count": 71,
     "metadata": {},
     "output_type": "execute_result"
    }
   ],
   "source": [
    "name_id"
   ]
  },
  {
   "cell_type": "code",
   "execution_count": 72,
   "id": "6009f9f2",
   "metadata": {},
   "outputs": [],
   "source": [
    "#Sets:Heterogeneous , One dimensional,Not slicable,Not indexable,Never allow unique elements it will print only unique elements"
   ]
  },
  {
   "cell_type": "code",
   "execution_count": 73,
   "id": "e67d1809",
   "metadata": {},
   "outputs": [],
   "source": [
    "blood_group=set()"
   ]
  },
  {
   "cell_type": "code",
   "execution_count": 74,
   "id": "76eda770",
   "metadata": {},
   "outputs": [
    {
     "data": {
      "text/plain": [
       "set"
      ]
     },
     "execution_count": 74,
     "metadata": {},
     "output_type": "execute_result"
    }
   ],
   "source": [
    "type(blood_group)"
   ]
  },
  {
   "cell_type": "code",
   "execution_count": 75,
   "id": "93959515",
   "metadata": {},
   "outputs": [],
   "source": [
    "blood_group_details={'B+','O+','AB+',4,3,3,4,3}"
   ]
  },
  {
   "cell_type": "code",
   "execution_count": 76,
   "id": "11448514",
   "metadata": {},
   "outputs": [
    {
     "data": {
      "text/plain": [
       "{3, 4, 'AB+', 'B+', 'O+'}"
      ]
     },
     "execution_count": 76,
     "metadata": {},
     "output_type": "execute_result"
    }
   ],
   "source": [
    "blood_group_details"
   ]
  },
  {
   "cell_type": "code",
   "execution_count": 77,
   "id": "f084c603",
   "metadata": {},
   "outputs": [
    {
     "data": {
      "text/plain": [
       "dict"
      ]
     },
     "execution_count": 77,
     "metadata": {},
     "output_type": "execute_result"
    }
   ],
   "source": [
    "group={}\n",
    "type(group)"
   ]
  },
  {
   "cell_type": "code",
   "execution_count": 78,
   "id": "fcec7ecc",
   "metadata": {},
   "outputs": [],
   "source": [
    "#Not indexable and slicable"
   ]
  },
  {
   "cell_type": "code",
   "execution_count": 79,
   "id": "647bc75b",
   "metadata": {},
   "outputs": [
    {
     "ename": "TypeError",
     "evalue": "'set' object is not subscriptable",
     "output_type": "error",
     "traceback": [
      "\u001b[1;31m---------------------------------------------------------------------------\u001b[0m",
      "\u001b[1;31mTypeError\u001b[0m                                 Traceback (most recent call last)",
      "\u001b[1;32m<ipython-input-79-41edbb947a93>\u001b[0m in \u001b[0;36m<module>\u001b[1;34m\u001b[0m\n\u001b[1;32m----> 1\u001b[1;33m \u001b[0mblood_group_details\u001b[0m\u001b[1;33m[\u001b[0m\u001b[1;36m0\u001b[0m\u001b[1;33m]\u001b[0m\u001b[1;33m\u001b[0m\u001b[1;33m\u001b[0m\u001b[0m\n\u001b[0m",
      "\u001b[1;31mTypeError\u001b[0m: 'set' object is not subscriptable"
     ]
    }
   ],
   "source": [
    "blood_group_details[0]"
   ]
  },
  {
   "cell_type": "code",
   "execution_count": 81,
   "id": "ee4069da",
   "metadata": {},
   "outputs": [
    {
     "ename": "TypeError",
     "evalue": "'set' object does not support item assignment",
     "output_type": "error",
     "traceback": [
      "\u001b[1;31m---------------------------------------------------------------------------\u001b[0m",
      "\u001b[1;31mTypeError\u001b[0m                                 Traceback (most recent call last)",
      "\u001b[1;32m<ipython-input-81-2ce9aa08bc49>\u001b[0m in \u001b[0;36m<module>\u001b[1;34m\u001b[0m\n\u001b[1;32m----> 1\u001b[1;33m \u001b[0mblood_group_details\u001b[0m\u001b[1;33m[\u001b[0m\u001b[1;36m1\u001b[0m\u001b[1;33m]\u001b[0m\u001b[1;33m=\u001b[0m\u001b[1;34m'O-'\u001b[0m\u001b[1;33m\u001b[0m\u001b[1;33m\u001b[0m\u001b[0m\n\u001b[0m",
      "\u001b[1;31mTypeError\u001b[0m: 'set' object does not support item assignment"
     ]
    }
   ],
   "source": [
    "blood_group_details[1]='O-'"
   ]
  },
  {
   "cell_type": "code",
   "execution_count": 84,
   "id": "5f6760bf",
   "metadata": {},
   "outputs": [],
   "source": [
    "blood_group_details.add('O-')"
   ]
  },
  {
   "cell_type": "code",
   "execution_count": 85,
   "id": "09b4eded",
   "metadata": {},
   "outputs": [
    {
     "data": {
      "text/plain": [
       "{3, 4, 'AB+', 'B+', 'O+', 'O-', 'O-|'}"
      ]
     },
     "execution_count": 85,
     "metadata": {},
     "output_type": "execute_result"
    }
   ],
   "source": [
    "blood_group_details"
   ]
  },
  {
   "cell_type": "code",
   "execution_count": 87,
   "id": "ec959d02",
   "metadata": {},
   "outputs": [],
   "source": [
    "#Tuples: One dimensional,Heterogeneous,Allows duplicate elements,Immutable"
   ]
  },
  {
   "cell_type": "code",
   "execution_count": 88,
   "id": "5e15c143",
   "metadata": {},
   "outputs": [],
   "source": [
    "t=() # Empty tuple"
   ]
  },
  {
   "cell_type": "code",
   "execution_count": 89,
   "id": "ed90e7eb",
   "metadata": {},
   "outputs": [
    {
     "data": {
      "text/plain": [
       "tuple"
      ]
     },
     "execution_count": 89,
     "metadata": {},
     "output_type": "execute_result"
    }
   ],
   "source": [
    "type(t)"
   ]
  },
  {
   "cell_type": "code",
   "execution_count": 91,
   "id": "4540470e",
   "metadata": {},
   "outputs": [],
   "source": [
    "name=(\"Neha\",'Pratik','Shifa',123,1.234)"
   ]
  },
  {
   "cell_type": "code",
   "execution_count": 92,
   "id": "1a7e2846",
   "metadata": {},
   "outputs": [
    {
     "data": {
      "text/plain": [
       "('Neha', 'Pratik', 'Shifa', 123, 1.234)"
      ]
     },
     "execution_count": 92,
     "metadata": {},
     "output_type": "execute_result"
    }
   ],
   "source": [
    "name"
   ]
  },
  {
   "cell_type": "code",
   "execution_count": 93,
   "id": "99c93b27",
   "metadata": {},
   "outputs": [],
   "source": [
    "name=(\"Neha\",'Pratik','Shifa',123,1.234,\"Neha\",'Pratik','Shifa',123,1.234)"
   ]
  },
  {
   "cell_type": "code",
   "execution_count": 94,
   "id": "69f520c9",
   "metadata": {},
   "outputs": [
    {
     "data": {
      "text/plain": [
       "'Pratik'"
      ]
     },
     "execution_count": 94,
     "metadata": {},
     "output_type": "execute_result"
    }
   ],
   "source": [
    "name[1]"
   ]
  },
  {
   "cell_type": "code",
   "execution_count": 95,
   "id": "9960860c",
   "metadata": {},
   "outputs": [
    {
     "ename": "TypeError",
     "evalue": "'tuple' object does not support item assignment",
     "output_type": "error",
     "traceback": [
      "\u001b[1;31m---------------------------------------------------------------------------\u001b[0m",
      "\u001b[1;31mTypeError\u001b[0m                                 Traceback (most recent call last)",
      "\u001b[1;32m<ipython-input-95-13de02143c2b>\u001b[0m in \u001b[0;36m<module>\u001b[1;34m\u001b[0m\n\u001b[1;32m----> 1\u001b[1;33m \u001b[0mname\u001b[0m\u001b[1;33m[\u001b[0m\u001b[1;36m1\u001b[0m\u001b[1;33m]\u001b[0m\u001b[1;33m=\u001b[0m\u001b[1;34m'John'\u001b[0m\u001b[1;33m\u001b[0m\u001b[1;33m\u001b[0m\u001b[0m\n\u001b[0m",
      "\u001b[1;31mTypeError\u001b[0m: 'tuple' object does not support item assignment"
     ]
    }
   ],
   "source": [
    "name[1]='John' # Tuples are immutable"
   ]
  },
  {
   "cell_type": "code",
   "execution_count": 96,
   "id": "c7f54042",
   "metadata": {},
   "outputs": [
    {
     "data": {
      "text/plain": [
       "2"
      ]
     },
     "execution_count": 96,
     "metadata": {},
     "output_type": "execute_result"
    }
   ],
   "source": [
    "name.count('Pratik')"
   ]
  },
  {
   "cell_type": "code",
   "execution_count": 97,
   "id": "86072148",
   "metadata": {},
   "outputs": [],
   "source": [
    "# Dictionary:It is also called key value pair,2D,Heterogeneous"
   ]
  },
  {
   "cell_type": "code",
   "execution_count": 98,
   "id": "a1816c37",
   "metadata": {},
   "outputs": [],
   "source": [
    "emp_dic={}"
   ]
  },
  {
   "cell_type": "code",
   "execution_count": 99,
   "id": "5754e3f5",
   "metadata": {},
   "outputs": [
    {
     "data": {
      "text/plain": [
       "dict"
      ]
     },
     "execution_count": 99,
     "metadata": {},
     "output_type": "execute_result"
    }
   ],
   "source": [
    "type(emp_dic)"
   ]
  },
  {
   "cell_type": "code",
   "execution_count": 100,
   "id": "eeeedffd",
   "metadata": {},
   "outputs": [],
   "source": [
    "data={'fname':'Rohith','lname':'Neelagiriyappa','Age':31}"
   ]
  },
  {
   "cell_type": "code",
   "execution_count": 102,
   "id": "8decf839",
   "metadata": {},
   "outputs": [
    {
     "data": {
      "text/plain": [
       "dict_values(['Rohith', 'Neelagiriyappa', 31])"
      ]
     },
     "execution_count": 102,
     "metadata": {},
     "output_type": "execute_result"
    }
   ],
   "source": [
    "data.values()"
   ]
  },
  {
   "cell_type": "code",
   "execution_count": 103,
   "id": "fcbbc68e",
   "metadata": {},
   "outputs": [
    {
     "data": {
      "text/plain": [
       "dict_keys(['fname', 'lname', 'Age'])"
      ]
     },
     "execution_count": 103,
     "metadata": {},
     "output_type": "execute_result"
    }
   ],
   "source": [
    "data.keys()"
   ]
  },
  {
   "cell_type": "code",
   "execution_count": 104,
   "id": "5139515e",
   "metadata": {},
   "outputs": [
    {
     "data": {
      "text/plain": [
       "{'fname': 'Rohith', 'lname': 'Neelagiriyappa', 'Age': 31}"
      ]
     },
     "execution_count": 104,
     "metadata": {},
     "output_type": "execute_result"
    }
   ],
   "source": [
    "data"
   ]
  },
  {
   "cell_type": "code",
   "execution_count": 105,
   "id": "694fc2e4",
   "metadata": {},
   "outputs": [],
   "source": [
    "data1={'fname':['Rohith','Arun'],'lname':['Niranjan','Patrick'],'Age':[21,31]}"
   ]
  },
  {
   "cell_type": "code",
   "execution_count": 106,
   "id": "52d1b111",
   "metadata": {},
   "outputs": [
    {
     "data": {
      "text/plain": [
       "{'fname': ['Rohith', 'Arun'],\n",
       " 'lname': ['Niranjan', 'Patrick'],\n",
       " 'Age': [21, 31]}"
      ]
     },
     "execution_count": 106,
     "metadata": {},
     "output_type": "execute_result"
    }
   ],
   "source": [
    "data1"
   ]
  },
  {
   "cell_type": "code",
   "execution_count": 107,
   "id": "f2e3952c",
   "metadata": {},
   "outputs": [
    {
     "data": {
      "text/plain": [
       "['Rohith', 'Arun']"
      ]
     },
     "execution_count": 107,
     "metadata": {},
     "output_type": "execute_result"
    }
   ],
   "source": [
    "data1['fname']"
   ]
  },
  {
   "cell_type": "code",
   "execution_count": 108,
   "id": "63ece004",
   "metadata": {},
   "outputs": [],
   "source": [
    "data1['fname'][0]='Arjun'"
   ]
  },
  {
   "cell_type": "code",
   "execution_count": 109,
   "id": "8f7e3eb3",
   "metadata": {},
   "outputs": [
    {
     "data": {
      "text/plain": [
       "{'fname': ['Arjun', 'Arun'], 'lname': ['Niranjan', 'Patrick'], 'Age': [21, 31]}"
      ]
     },
     "execution_count": 109,
     "metadata": {},
     "output_type": "execute_result"
    }
   ],
   "source": [
    "data1"
   ]
  },
  {
   "cell_type": "code",
   "execution_count": 117,
   "id": "879b57d7",
   "metadata": {},
   "outputs": [
    {
     "name": "stdout",
     "output_type": "stream",
     "text": [
      "First name ['Arjun', 'Arun']\n",
      "Last name ['Niranjan', 'Patrick']\n"
     ]
    }
   ],
   "source": [
    "print(\"First name\",data1.get('fname'))\n",
    "print(\"Last name\",data1.get('lname'))"
   ]
  },
  {
   "cell_type": "code",
   "execution_count": 118,
   "id": "1b1e632c",
   "metadata": {},
   "outputs": [],
   "source": [
    "import pandas as pd"
   ]
  },
  {
   "cell_type": "code",
   "execution_count": 119,
   "id": "7cb8917c",
   "metadata": {},
   "outputs": [],
   "source": [
    "data=pd.DataFrame(data1)"
   ]
  },
  {
   "cell_type": "code",
   "execution_count": 120,
   "id": "7342051f",
   "metadata": {},
   "outputs": [
    {
     "data": {
      "text/html": [
       "<div>\n",
       "<style scoped>\n",
       "    .dataframe tbody tr th:only-of-type {\n",
       "        vertical-align: middle;\n",
       "    }\n",
       "\n",
       "    .dataframe tbody tr th {\n",
       "        vertical-align: top;\n",
       "    }\n",
       "\n",
       "    .dataframe thead th {\n",
       "        text-align: right;\n",
       "    }\n",
       "</style>\n",
       "<table border=\"1\" class=\"dataframe\">\n",
       "  <thead>\n",
       "    <tr style=\"text-align: right;\">\n",
       "      <th></th>\n",
       "      <th>fname</th>\n",
       "      <th>lname</th>\n",
       "      <th>Age</th>\n",
       "    </tr>\n",
       "  </thead>\n",
       "  <tbody>\n",
       "    <tr>\n",
       "      <th>0</th>\n",
       "      <td>Arjun</td>\n",
       "      <td>Niranjan</td>\n",
       "      <td>21</td>\n",
       "    </tr>\n",
       "    <tr>\n",
       "      <th>1</th>\n",
       "      <td>Arun</td>\n",
       "      <td>Patrick</td>\n",
       "      <td>31</td>\n",
       "    </tr>\n",
       "  </tbody>\n",
       "</table>\n",
       "</div>"
      ],
      "text/plain": [
       "   fname     lname  Age\n",
       "0  Arjun  Niranjan   21\n",
       "1   Arun   Patrick   31"
      ]
     },
     "execution_count": 120,
     "metadata": {},
     "output_type": "execute_result"
    }
   ],
   "source": [
    "data"
   ]
  },
  {
   "cell_type": "code",
   "execution_count": null,
   "id": "d1b9a995",
   "metadata": {},
   "outputs": [],
   "source": []
  }
 ],
 "metadata": {
  "kernelspec": {
   "display_name": "Python 3",
   "language": "python",
   "name": "python3"
  },
  "language_info": {
   "codemirror_mode": {
    "name": "ipython",
    "version": 3
   },
   "file_extension": ".py",
   "mimetype": "text/x-python",
   "name": "python",
   "nbconvert_exporter": "python",
   "pygments_lexer": "ipython3",
   "version": "3.8.8"
  }
 },
 "nbformat": 4,
 "nbformat_minor": 5
}
